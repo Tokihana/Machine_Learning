{
 "cells": [
  {
   "cell_type": "code",
   "execution_count": 1,
   "id": "da9888ab",
   "metadata": {},
   "outputs": [],
   "source": [
    "import sympy"
   ]
  },
  {
   "cell_type": "code",
   "execution_count": 26,
   "id": "22b5a5db",
   "metadata": {},
   "outputs": [],
   "source": [
    "J, w, a_2, y = sympy.symbols('J, w, a_2, y')"
   ]
  },
  {
   "cell_type": "code",
   "execution_count": 27,
   "id": "e0907473",
   "metadata": {},
   "outputs": [
    {
     "data": {
      "text/latex": [
       "$\\displaystyle 0.5 \\left(a_{2} - y\\right)^{2}$"
      ],
      "text/plain": [
       "0.5*(a_2 - y)**2"
      ]
     },
     "execution_count": 27,
     "metadata": {},
     "output_type": "execute_result"
    }
   ],
   "source": [
    "J = 1/2 * (a_2 - y)**2\n",
    "J"
   ]
  },
  {
   "cell_type": "code",
   "execution_count": 28,
   "id": "0989666f",
   "metadata": {},
   "outputs": [
    {
     "data": {
      "text/latex": [
       "$\\displaystyle 1.0 a_{2} - 1.0 y$"
      ],
      "text/plain": [
       "1.0*a_2 - 1.0*y"
      ]
     },
     "execution_count": 28,
     "metadata": {},
     "output_type": "execute_result"
    }
   ],
   "source": [
    "dJ_da_2 = sympy.diff(J, a_2)\n",
    "dJ_da_2"
   ]
  },
  {
   "cell_type": "code",
   "execution_count": 22,
   "id": "6b77e017",
   "metadata": {},
   "outputs": [
    {
     "data": {
      "text/latex": [
       "$\\displaystyle -0.249750187375078$"
      ],
      "text/plain": [
       "-0.249750187375078"
      ]
     },
     "execution_count": 22,
     "metadata": {},
     "output_type": "execute_result"
    }
   ],
   "source": [
    "dJ_dw.subs([(w, 2 + 0.001)])"
   ]
  },
  {
   "cell_type": "code",
   "execution_count": 23,
   "id": "f22bde5a",
   "metadata": {},
   "outputs": [
    {
     "data": {
      "text/latex": [
       "$\\displaystyle 0.499750124937531$"
      ],
      "text/plain": [
       "0.499750124937531"
      ]
     },
     "execution_count": 23,
     "metadata": {},
     "output_type": "execute_result"
    }
   ],
   "source": [
    "J.subs([(w, 2+0.001)])"
   ]
  },
  {
   "cell_type": "code",
   "execution_count": null,
   "id": "c33e1411",
   "metadata": {},
   "outputs": [],
   "source": []
  }
 ],
 "metadata": {
  "kernelspec": {
   "display_name": "Python 3 (ipykernel)",
   "language": "python",
   "name": "python3"
  },
  "language_info": {
   "codemirror_mode": {
    "name": "ipython",
    "version": 3
   },
   "file_extension": ".py",
   "mimetype": "text/x-python",
   "name": "python",
   "nbconvert_exporter": "python",
   "pygments_lexer": "ipython3",
   "version": "3.9.13"
  }
 },
 "nbformat": 4,
 "nbformat_minor": 5
}
