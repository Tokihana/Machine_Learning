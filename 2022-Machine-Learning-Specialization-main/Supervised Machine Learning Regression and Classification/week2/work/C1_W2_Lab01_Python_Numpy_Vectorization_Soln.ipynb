{
 "cells": [
  {
   "cell_type": "markdown",
   "metadata": {},
   "source": [
    "# Optional Lab: Python, NumPy and Vectorization\n",
    "A brief introduction to some of the scientific computing used in this course. In particular the NumPy scientific computing package and its use with python.\n",
    "\n",
    "简单介绍在本课程中使用的一些科学计算方法。尤其是NumPy科学计算库和它的python编写\n",
    "\n",
    "# Outline\n",
    "- [&nbsp;&nbsp;1.1 Goals](#toc_40015_1.1)\n",
    "- [&nbsp;&nbsp;1.2 Useful References](#toc_40015_1.2)\n",
    "- [2 Python and NumPy <a name='Python and NumPy'></a>](#toc_40015_2)\n",
    "- [3 Vectors](#toc_40015_3)\n",
    "- [&nbsp;&nbsp;3.1 Abstract](#toc_40015_3.1)\n",
    "- [&nbsp;&nbsp;3.2 NumPy Arrays](#toc_40015_3.2)\n",
    "- [&nbsp;&nbsp;3.3 Vector Creation](#toc_40015_3.3)\n",
    "- [&nbsp;&nbsp;3.4 Operations on Vectors](#toc_40015_3.4)\n",
    "- [4 Matrices](#toc_40015_4)\n",
    "- [&nbsp;&nbsp;4.1 Abstract](#toc_40015_4.1)\n",
    "- [&nbsp;&nbsp;4.2 NumPy Arrays](#toc_40015_4.2)\n",
    "- [&nbsp;&nbsp;4.3 Matrix Creation](#toc_40015_4.3)\n",
    "- [&nbsp;&nbsp;4.4 Operations on Matrices](#toc_40015_4.4)\n"
   ]
  },
  {
   "cell_type": "code",
   "execution_count": 1,
   "metadata": {},
   "outputs": [],
   "source": [
    "import numpy as np    # it is an unofficial standard to use np for numpy\n",
    "import time"
   ]
  },
  {
   "cell_type": "markdown",
   "metadata": {},
   "source": [
    "<a name=\"toc_40015_1.1\"></a>\n",
    "## 1.1 Goals\n",
    "In this lab, you will:\n",
    "- Review the features of NumPy and Python that are used in Course 1\n",
    "\n",
    "在这个lab中，你将：\n",
    "- 复习在第一节学习的NumPy和Python功能"
   ]
  },
  {
   "cell_type": "markdown",
   "metadata": {},
   "source": [
    "<a name=\"toc_40015_1.2\"></a>\n",
    "## 1.2 Useful References\n",
    "- NumPy Documentation including a basic introduction: [NumPy.org](https://NumPy.org/doc/stable/)\n",
    "- A challenging feature topic: [NumPy Broadcasting](https://NumPy.org/doc/stable/user/basics.broadcasting.html)\n",
    "\n",
    "- Numpy的手册，包含简单的介绍[NumPy.org](https://NumPy.org/doc/stable/)\n",
    "- 具有挑战性的功能主题[NumPy Broadcasting](https://NumPy.org/doc/stable/user/basics.broadcasting.html)\n",
    "\n"
   ]
  },
  {
   "cell_type": "markdown",
   "metadata": {},
   "source": [
    "<a name=\"toc_40015_2\"></a>\n",
    "# 2 Python and NumPy <a name='Python and NumPy'></a>\n",
    "Python is the programming language we will be using in this course. It has a set of numeric data types and arithmetic operations. NumPy is a library that extends the base capabilities of python to add a richer data set including more numeric types, vectors, matrices, and many matrix functions. NumPy and python  work together fairly seamlessly. Python arithmetic operators work on NumPy data types and many NumPy functions will accept python data types.\n",
    "\n",
    "Python是我们将会在本课程中使用的编程语言。该语言具有一系列数据类型和算数处理。NumPy是一个函数库，它拓展了Python的功能，添加了更加丰富的数据类型、向量、矩阵和很多矩阵函数。NumPy和Python简直是无缝结合。Python的算数操作可以直接应用于NumPy数据类型，许多NumPy函数也支持使用Python数据类型。\n"
   ]
  },
  {
   "cell_type": "markdown",
   "metadata": {},
   "source": [
    "<a name=\"toc_40015_3\"></a>\n",
    "# 3 Vectors向量\n",
    "<a name=\"toc_40015_3.1\"></a>\n",
    "## 3.1 Abstract摘要\n",
    "<img align=\"right\" src=\"./images/C1_W2_Lab04_Vectors.PNG\" style=\"width:340px;\" >Vectors, as you will use them in this course, are ordered arrays of numbers. In notation, vectors are denoted with lower case bold letters such as $\\mathbf{x}$.  The elements of a vector are all the same type. A vector does not, for example, contain both characters and numbers. The number of elements in the array is often referred to as the *dimension* though mathematicians may prefer *rank*. The vector shown has a dimension of $n$. The elements of a vector can be referenced with an index. In math settings, indexes typically run from 1 to n. In computer science and these labs, indexing will typically run from 0 to n-1.  In notation, elements of a vector, when referenced individually will indicate the index in a subscript, for example, the $0^{th}$ element, of the vector $\\mathbf{x}$ is $x_0$. Note, the x is not bold in this case.  \n",
    "\n",
    "向量是数字的有序数组，你将在本课程中使用它。通常，向量使用加粗的小写字母表示，形如$\\mathbf{x}$。向量内所有的元素类型必须一致。例如，向量不能同时包含字符型和数字。数组中元素的个数通常被称为**维数**，数学上也称为**秩**。图示就是一个$n$维向量。向量中的元素可以使用索引。在数学上，索引通常从1到n排序；而在计算机科学和本课程中，索引从0到n-1排序。习惯上，单独表示向量中的一个元素，可以用下标表示索引，例如，向量$\\mathbf{x}$的第$0^{th}$个元素可以表示为$x_0$。注意x在这时没有加粗。"
   ]
  },
  {
   "cell_type": "markdown",
   "metadata": {},
   "source": [
    "<a name=\"toc_40015_3.2\"></a>\n",
    "## 3.2 NumPy Arrays\n",
    "\n",
    "NumPy's basic data structure is an indexable, n-dimensional *array* containing elements of the same type (`dtype`). Right away, you may notice we have overloaded the term 'dimension'. Above, it was the number of elements in the vector, here, dimension refers to the number of indexes of an array. A one-dimensional or 1-D array has one index. In Course 1, we will represent vectors as NumPy 1-D arrays. \n",
    "\n",
    " - 1-D array, shape (n,): n elements indexed [0] through [n-1]\n",
    " \n",
    " NumPy基础的数据结构是一个可以索引的n维**数组**，包含具有相同数据类型的(`dtype`)元素。你应该很快就注意到我们在这里重定义了**维数**。在前面，维数是向量中的元素个数；而在这里，维数是数组的索引个数。一个一维，或者说1-D的数组，有一个索引。在课程 1，我们会使用NumPy的1-D数组来表示向量。\n",
    "- 1-D array，shape (n,): 包含n个元素，索引从[0]到[n-1]\n",
    " "
   ]
  },
  {
   "cell_type": "markdown",
   "metadata": {},
   "source": [
    "<a name=\"toc_40015_3.3\"></a>\n",
    "## 3.3 Vector Creation创建数组\n"
   ]
  },
  {
   "cell_type": "markdown",
   "metadata": {},
   "source": [
    "Data creation routines in NumPy will generally have a first parameter which is the shape of the object. This can either be a single value for a 1-D result or a tuple (n,m,...) specifying the shape of the result. Below are examples of creating vectors using these routines.\n",
    "\n",
    "创建NumPy的数据，第一个要提供的参数通常是对象的shape(形状)，shape可以是单个值，对应1-D对象，也可以是个元组(tuple)，类似(n, m, ...)，指定对象的形状。下面是一个创建向量的例子。"
   ]
  },
  {
   "cell_type": "code",
   "execution_count": 2,
   "metadata": {},
   "outputs": [
    {
     "name": "stdout",
     "output_type": "stream",
     "text": [
      "np.zeros(4) :   a = [0. 0. 0. 0.], a shape = (4,), a data type = float64\n",
      "np.zeros(4,) :  a = [0. 0. 0. 0.], a shape = (4,), a data type = float64\n",
      "np.random.random_sample(4): a = [0.3462114  0.60932422 0.49491658 0.65983355], a shape = (4,), a data type = float64\n"
     ]
    }
   ],
   "source": [
    "# NumPy routines which allocate memory and fill arrays with value\n",
    "a = np.zeros(4);                print(f\"np.zeros(4) :   a = {a}, a shape = {a.shape}, a data type = {a.dtype}\")\n",
    "a = np.zeros((4,));             print(f\"np.zeros(4,) :  a = {a}, a shape = {a.shape}, a data type = {a.dtype}\")\n",
    "a = np.random.random_sample(4); print(f\"np.random.random_sample(4): a = {a}, a shape = {a.shape}, a data type = {a.dtype}\")"
   ]
  },
  {
   "cell_type": "markdown",
   "metadata": {},
   "source": [
    "Some data creation routines do not take a shape tuple:\n",
    "不使用shape元组的创建数据的方法"
   ]
  },
  {
   "cell_type": "code",
   "execution_count": 3,
   "metadata": {},
   "outputs": [
    {
     "name": "stdout",
     "output_type": "stream",
     "text": [
      "np.arange(4.):     a = [0. 1. 2. 3.], a shape = (4,), a data type = float64\n",
      "np.random.rand(4): a = [0.81979029 0.58625349 0.9627486  0.33449045], a shape = (4,), a data type = float64\n"
     ]
    }
   ],
   "source": [
    "# NumPy routines which allocate memory and fill arrays with value but do not accept shape as input argument\n",
    "a = np.arange(4.);              print(f\"np.arange(4.):     a = {a}, a shape = {a.shape}, a data type = {a.dtype}\")\n",
    "a = np.random.rand(4);          print(f\"np.random.rand(4): a = {a}, a shape = {a.shape}, a data type = {a.dtype}\")"
   ]
  },
  {
   "cell_type": "markdown",
   "metadata": {},
   "source": [
    "values can be specified manually as well. \n",
    "数组内的值也可以手动输入"
   ]
  },
  {
   "cell_type": "code",
   "execution_count": 4,
   "metadata": {},
   "outputs": [
    {
     "name": "stdout",
     "output_type": "stream",
     "text": [
      "np.array([5,4,3,2]):  a = [5 4 3 2],     a shape = (4,), a data type = int32\n",
      "np.array([5.,4,3,2]): a = [5. 4. 3. 2.], a shape = (4,), a data type = float64\n"
     ]
    }
   ],
   "source": [
    "# NumPy routines which allocate memory and fill with user specified values\n",
    "a = np.array([5,4,3,2]);  print(f\"np.array([5,4,3,2]):  a = {a},     a shape = {a.shape}, a data type = {a.dtype}\")\n",
    "a = np.array([5.,4,3,2]); print(f\"np.array([5.,4,3,2]): a = {a}, a shape = {a.shape}, a data type = {a.dtype}\")"
   ]
  },
  {
   "cell_type": "markdown",
   "metadata": {},
   "source": [
    "These have all created a one-dimensional vector  `a` with four elements. `a.shape` returns the dimensions. Here we see a.shape = `(4,)` indicating a 1-d array with 4 elements.  \n",
    "以上是所有创建有4个元素的一维向量`a`的方法。你可以使用`a.shape`获取向量的维数。在上面的测试中我们可以看到，含有4个元素的一维向量的shape为(4,)"
   ]
  },
  {
   "cell_type": "markdown",
   "metadata": {},
   "source": [
    "<a name=\"toc_40015_3.4\"></a>\n",
    "## 3.4 Operations on Vectors 向量操作\n",
    "Let's explore some operations using vectors.\n",
    "\n",
    "让我们研究一些对向量的操作\n",
    "<a name=\"toc_40015_3.4.1\"></a>\n",
    "### 3.4.1 Indexing 索引\n",
    "Elements of vectors can be accessed via indexing and slicing. NumPy provides a very complete set of indexing and slicing capabilities. We will explore only the basics needed for the course here. Reference [Slicing and Indexing](https://NumPy.org/doc/stable/reference/arrays.indexing.html) for more details.  \n",
    "**Indexing** means referring to *an element* of an array by its position within the array.  \n",
    "**Slicing** means getting a *subset* of elements from an array based on their indices.  \n",
    "NumPy starts indexing at zero so the 3rd element of an vector $\\mathbf{a}$ is `a[2]`.\n",
    "\n",
    "向量中的元素可以通过索引和切片访问。NumPy提供了完备的索引和切片功能。我们只需要研究可能所需要的部分。你可以参考[Slicing and Indexing](https://NumPy.org/doc/stable/reference/arrays.indexing.html) 来进一步学习。\n",
    "\n",
    "**索引**是指通过在数组中的位置，选择数组中的**一个元素**\n",
    "\n",
    "**切片**是指获取数组的一个**子集**\n",
    "NumPy的索引从0开始，因此向量$\\mathbf{a}$中的第3个元素为`a[2]`"
   ]
  },
  {
   "cell_type": "code",
   "execution_count": 5,
   "metadata": {},
   "outputs": [
    {
     "name": "stdout",
     "output_type": "stream",
     "text": [
      "[0 1 2 3 4 5 6 7 8 9]\n",
      "a[2].shape: () a[2]  = 2, Accessing an element returns a scalar\n",
      "a[-1] = 9\n",
      "The error message you'll see is:\n",
      "index 10 is out of bounds for axis 0 with size 10\n"
     ]
    }
   ],
   "source": [
    "#vector indexing operations on 1-D vectors\n",
    "a = np.arange(10)\n",
    "print(a)\n",
    "\n",
    "#access an element\n",
    "print(f\"a[2].shape: {a[2].shape} a[2]  = {a[2]}, Accessing an element returns a scalar\")\n",
    "\n",
    "# access the last element, negative indexs count from the end\n",
    "print(f\"a[-1] = {a[-1]}\")\n",
    "\n",
    "#indexs must be within the range of the vector or they will produce and error\n",
    "try:\n",
    "    c = a[10]\n",
    "except Exception as e:\n",
    "    print(\"The error message you'll see is:\")\n",
    "    print(e)"
   ]
  },
  {
   "cell_type": "markdown",
   "metadata": {},
   "source": [
    "<a name=\"toc_40015_3.4.2\"></a>\n",
    "### 3.4.2 Slicing 切片\n",
    "Slicing creates an array of indices using a set of three values (`start:stop:step`). A subset of values is also valid. Its use is best explained by example:\n",
    "\n",
    "切片使用三个参数(`start:stop:step`)来获取数组的一个子集。也可以缺省部分参数，学习这部分的最好方法是通过举例：（主要注意[start,stop)左包含右不包含。）"
   ]
  },
  {
   "cell_type": "code",
   "execution_count": 6,
   "metadata": {},
   "outputs": [
    {
     "name": "stdout",
     "output_type": "stream",
     "text": [
      "a         = [0 1 2 3 4 5 6 7 8 9]\n",
      "a[2:7:1] =  [2 3 4 5 6]\n",
      "a[2:7:2] =  [2 4 6]\n",
      "a[3:]    =  [3 4 5 6 7 8 9]\n",
      "a[:3]    =  [0 1 2]\n",
      "a[:]     =  [0 1 2 3 4 5 6 7 8 9]\n"
     ]
    }
   ],
   "source": [
    "#vector slicing operations\n",
    "a = np.arange(10)\n",
    "print(f\"a         = {a}\")\n",
    "\n",
    "#access 5 consecutive elements (start:stop:step)\n",
    "c = a[2:7:1];     print(\"a[2:7:1] = \", c)\n",
    "\n",
    "# access 3 elements separated by two \n",
    "c = a[2:7:2];     print(\"a[2:7:2] = \", c)\n",
    "\n",
    "# access all elements index 3 and above\n",
    "c = a[3:];        print(\"a[3:]    = \", c)\n",
    "\n",
    "# access all elements below index 3\n",
    "c = a[:3];        print(\"a[:3]    = \", c)\n",
    "\n",
    "# access all elements\n",
    "c = a[:];         print(\"a[:]     = \", c)"
   ]
  },
  {
   "cell_type": "markdown",
   "metadata": {},
   "source": [
    "<a name=\"toc_40015_3.4.3\"></a>\n",
    "### 3.4.3 Single vector operations 单变量操作\n",
    "There are a number of useful operations that involve operations on a single vector.\n",
    "\n",
    "下面是一些有用的针对单变量的操作"
   ]
  },
  {
   "cell_type": "code",
   "execution_count": 7,
   "metadata": {},
   "outputs": [
    {
     "name": "stdout",
     "output_type": "stream",
     "text": [
      "a             : [1 2 3 4]\n",
      "b = -a        : [-1 -2 -3 -4]\n",
      "b = np.sum(a) : 10\n",
      "b = np.mean(a): 2.5\n",
      "b = a**2      : [ 1  4  9 16]\n"
     ]
    }
   ],
   "source": [
    "a = np.array([1,2,3,4])\n",
    "print(f\"a             : {a}\")\n",
    "# negate elements of a\n",
    "b = -a \n",
    "print(f\"b = -a        : {b}\")\n",
    "\n",
    "# sum all elements of a, returns a scalar\n",
    "b = np.sum(a) \n",
    "print(f\"b = np.sum(a) : {b}\")\n",
    "\n",
    "b = np.mean(a)\n",
    "print(f\"b = np.mean(a): {b}\")\n",
    "\n",
    "b = a**2\n",
    "print(f\"b = a**2      : {b}\")"
   ]
  },
  {
   "cell_type": "markdown",
   "metadata": {},
   "source": [
    "<a name=\"toc_40015_3.4.4\"></a>\n",
    "### 3.4.4 Vector Vector element-wise operations 向量与向量 逐元素的操作\n",
    "Most of the NumPy arithmetic, logical and comparison operations apply to vectors as well. These operators work on an element-by-element basis. For example \n",
    "$$ \\mathbf{a} + \\mathbf{b} = \\sum_{i=0}^{n-1} a_i + b_i $$\n",
    "\n",
    "大多数的NumPy运算，包括逻辑运算符与比较运算符。这些运算是逐元素进行的。例如\n",
    "$$ \\mathbf{a} + \\mathbf{b} = \\sum_{i=0}^{n-1} a_i + b_i $$"
   ]
  },
  {
   "cell_type": "code",
   "execution_count": 8,
   "metadata": {},
   "outputs": [
    {
     "name": "stdout",
     "output_type": "stream",
     "text": [
      "Binary operators work element wise: [0 0 6 8]\n"
     ]
    }
   ],
   "source": [
    "a = np.array([ 1, 2, 3, 4])\n",
    "b = np.array([-1,-2, 3, 4])\n",
    "print(f\"Binary operators work element wise: {a + b}\")"
   ]
  },
  {
   "cell_type": "markdown",
   "metadata": {},
   "source": [
    "Of course, for this to work correctly, the vectors must be of the same size:\n",
    "\n",
    "当然，为了确保正确运行，两个向量的大小应该一致"
   ]
  },
  {
   "cell_type": "code",
   "execution_count": 9,
   "metadata": {},
   "outputs": [
    {
     "name": "stdout",
     "output_type": "stream",
     "text": [
      "The error message you'll see is:\n",
      "operands could not be broadcast together with shapes (4,) (2,) \n"
     ]
    }
   ],
   "source": [
    "#try a mismatched vector operation\n",
    "c = np.array([1, 2])\n",
    "try:\n",
    "    d = a + c\n",
    "except Exception as e:\n",
    "    print(\"The error message you'll see is:\")\n",
    "    print(e)"
   ]
  },
  {
   "cell_type": "markdown",
   "metadata": {},
   "source": [
    "<a name=\"toc_40015_3.4.5\"></a>\n",
    "### 3.4.5 Scalar Vector operations 倍乘操作\n",
    "Vectors can be 'scaled' by scalar values. A scalar value is just a number. The scalar multiplies all the elements of the vector.\n",
    "\n",
    "向量可以被倍乘一个数字，这个倍数是个标量。倍乘作用于向量的每个元素上。"
   ]
  },
  {
   "cell_type": "code",
   "execution_count": 10,
   "metadata": {},
   "outputs": [
    {
     "name": "stdout",
     "output_type": "stream",
     "text": [
      "b = 5 * a : [ 5 10 15 20]\n"
     ]
    }
   ],
   "source": [
    "a = np.array([1, 2, 3, 4])\n",
    "\n",
    "# multiply a by a scalar\n",
    "b = 5 * a \n",
    "print(f\"b = 5 * a : {b}\")"
   ]
  },
  {
   "cell_type": "markdown",
   "metadata": {},
   "source": [
    "<a name=\"toc_40015_3.4.6\"></a>\n",
    "### 3.4.6 Vector Vector dot product 向量点乘\n",
    "The dot product is a mainstay of Linear Algebra and NumPy. This is an operation used extensively in this course and should be well understood. The dot product is shown below.\n",
    "\n",
    "点乘是线性代数和NumPy的重点。该操作在本课程中非常常见，且应该被深刻理解。点乘的有关内容见下。"
   ]
  },
  {
   "cell_type": "markdown",
   "metadata": {},
   "source": [
    "<img src=\"./images/C1_W2_Lab04_dot_notrans.gif\" width=800> "
   ]
  },
  {
   "cell_type": "markdown",
   "metadata": {},
   "source": [
    "The dot product multiplies the values in two vectors element-wise and then sums the result.\n",
    "Vector dot product requires the dimensions of the two vectors to be the same. \n",
    "\n",
    "点乘将两个向量的值逐个相乘，然后求和。\n",
    "向量点乘需要两个向量的维度相同。"
   ]
  },
  {
   "cell_type": "markdown",
   "metadata": {},
   "source": [
    "Let's implement our own version of the dot product below:\n",
    "\n",
    "**Using a for loop**, implement a function which returns the dot product of two vectors. The function to return given inputs $a$ and $b$:\n",
    "$$ x = \\sum_{i=0}^{n-1} a_i b_i $$\n",
    "Assume both `a` and `b` are the same shape.\n",
    "\n",
    "让我们在下面自己实现一个点乘：\n",
    "\n",
    "**使用for循环**， 实现一个返回两个向量点乘结果的函数。函数的定义如下：\n",
    "$$ x = \\sum_{i=0}^{n-1} a_i b_i $$\n",
    "假定`a`和`b`的维数相同"
   ]
  },
  {
   "cell_type": "code",
   "execution_count": 11,
   "metadata": {},
   "outputs": [],
   "source": [
    "def my_dot(a, b): \n",
    "    \"\"\"\n",
    "   Compute the dot product of two vectors\n",
    " \n",
    "    Args:\n",
    "      a (ndarray (n,)):  input vector \n",
    "      b (ndarray (n,)):  input vector with same dimension as a\n",
    "    \n",
    "    Returns:\n",
    "      x (scalar): \n",
    "    \"\"\"\n",
    "    x=0\n",
    "    for i in range(a.shape[0]):\n",
    "        x = x + a[i] * b[i]\n",
    "    return x"
   ]
  },
  {
   "cell_type": "code",
   "execution_count": 12,
   "metadata": {},
   "outputs": [
    {
     "name": "stdout",
     "output_type": "stream",
     "text": [
      "my_dot(a, b) = 24\n"
     ]
    }
   ],
   "source": [
    "# test 1-D\n",
    "a = np.array([1, 2, 3, 4])\n",
    "b = np.array([-1, 4, 3, 2])\n",
    "print(f\"my_dot(a, b) = {my_dot(a, b)}\")"
   ]
  },
  {
   "cell_type": "markdown",
   "metadata": {},
   "source": [
    "Note, the dot product is expected to return a scalar value. \n",
    "\n",
    "Let's try the same operations using `np.dot`.  \n",
    "\n",
    "注意，点乘应该返回一个标量。\n",
    "\n",
    "让我们使用`np.dot`来尝试同样的计算。"
   ]
  },
  {
   "cell_type": "code",
   "execution_count": 13,
   "metadata": {},
   "outputs": [
    {
     "name": "stdout",
     "output_type": "stream",
     "text": [
      "NumPy 1-D np.dot(a, b) = 24, np.dot(a, b).shape = () \n",
      "NumPy 1-D np.dot(b, a) = 24, np.dot(a, b).shape = () \n"
     ]
    }
   ],
   "source": [
    "# test 1-D\n",
    "a = np.array([1, 2, 3, 4])\n",
    "b = np.array([-1, 4, 3, 2])\n",
    "c = np.dot(a, b)\n",
    "print(f\"NumPy 1-D np.dot(a, b) = {c}, np.dot(a, b).shape = {c.shape} \") \n",
    "c = np.dot(b, a)\n",
    "print(f\"NumPy 1-D np.dot(b, a) = {c}, np.dot(a, b).shape = {c.shape} \")\n"
   ]
  },
  {
   "cell_type": "markdown",
   "metadata": {},
   "source": [
    "Above, you will note that the results for 1-D matched our implementation.\n",
    "\n",
    "综上，你可以看出来结果和我们的实现一致。\n",
    "（在这里提醒一下，从交换点乘顺序，结果相同可以看出，点乘满足交换律，深入理解为什么满足交换律可以去看3b1b的《线性代数的本质》）"
   ]
  },
  {
   "cell_type": "markdown",
   "metadata": {},
   "source": [
    "<a name=\"toc_40015_3.4.7\"></a>\n",
    "### 3.4.7 The Need for Speed: vector vs for loop 效率比拼\n",
    "We utilized the NumPy  library because it improves speed memory efficiency. Let's demonstrate:\n",
    "\n",
    "我们应当使用NumPy库实现的点乘，因为该实现效率更高。解释如下："
   ]
  },
  {
   "cell_type": "code",
   "execution_count": 14,
   "metadata": {},
   "outputs": [
    {
     "name": "stdout",
     "output_type": "stream",
     "text": [
      "np.dot(a, b) =  2501072.5817\n",
      "Vectorized version duration: 7.8020 ms \n",
      "my_dot(a, b) =  2501072.5817\n",
      "loop version duration: 1178.4315 ms \n"
     ]
    }
   ],
   "source": [
    "np.random.seed(1)\n",
    "a = np.random.rand(10000000)  # very large arrays\n",
    "b = np.random.rand(10000000)\n",
    "\n",
    "tic = time.time()  # capture start time\n",
    "c = np.dot(a, b)\n",
    "toc = time.time()  # capture end time\n",
    "\n",
    "print(f\"np.dot(a, b) =  {c:.4f}\")\n",
    "print(f\"Vectorized version duration: {1000*(toc-tic):.4f} ms \")\n",
    "\n",
    "tic = time.time()  # capture start time\n",
    "c = my_dot(a,b)\n",
    "toc = time.time()  # capture end time\n",
    "\n",
    "print(f\"my_dot(a, b) =  {c:.4f}\")\n",
    "print(f\"loop version duration: {1000*(toc-tic):.4f} ms \")\n",
    "\n",
    "del(a);del(b)  #remove these big arrays from memory"
   ]
  },
  {
   "cell_type": "markdown",
   "metadata": {},
   "source": [
    "So, vectorization provides a large speed up in this example. This is because NumPy makes better use of available data parallelism in the underlying hardware. GPU's and modern CPU's implement Single Instruction, Multiple Data (SIMD) pipelines allowing multiple operations to be issued in parallel. This is critical in Machine Learning where the data sets are often very large.\n",
    "\n",
    "可见，向量化能够极大程度提升效率。因为NumPy允许在底层硬件上并行处理数据。GPU和现代CPU的**单指令，多数据(Single Instruction，Multiple Data, SIMD)管线**允许并行处理多个操作。由于机器学习的数据集通常都很大，这点非常重要。"
   ]
  },
  {
   "cell_type": "markdown",
   "metadata": {},
   "source": [
    "<a name=\"toc_12345_3.4.8\"></a>\n",
    "### 3.4.8 Vector Vector operations in Course 1 \n",
    "### 3.4.8 课程1中的向量运算\n",
    "Vector Vector operations will appear frequently in course 1. Here is why:\n",
    "- Going forward, our examples will be stored in an array, `X_train` of dimension (m,n). This will be explained more in context, but here it is important to note it is a 2 Dimensional array or matrix (see next section on matrices).\n",
    "- `w` will be a 1-dimensional vector of shape (n,).\n",
    "- we will perform operations by looping through the examples, extracting each example to work on individually by indexing X. For example:`X[i]`\n",
    "- `X[i]` returns a value of shape (n,), a 1-dimensional vector. Consequently, operations involving `X[i]` are often vector-vector.  \n",
    "\n",
    "That is a somewhat lengthy explanation, but aligning and understanding the shapes of your operands is important when performing vector operations.\n",
    "\n",
    "向量运算将在课程1中频繁出现，原因如下：\n",
    "- 在后面，我们的样例将会是存储在数组中，维度为(m,n)的`X_train`。这样可以描述更多的内容，但需要注意，这是一个2维的数组，或者称矩阵（详见下一小节）\n",
    "- `w`将会是1维的向量，shape(n,)\n",
    "- 我们需要循环遍历样例来进行预处理（preform），通过索引提取出X的每个样例并单独处理，例如`X[i]`\n",
    "- `X[i]`返回shape(n,)的值，这是一个1维向量。总之，包含`X[i]`的操作通常都是向量-向量操作\n",
    "\n",
    "这段话有些长篇大论，但理解并让数据的shape一致是预处理向量操作中的重点。"
   ]
  },
  {
   "cell_type": "code",
   "execution_count": 15,
   "metadata": {},
   "outputs": [
    {
     "name": "stdout",
     "output_type": "stream",
     "text": [
      "X[1] has shape (1,)\n",
      "w has shape (1,)\n",
      "c has shape ()\n"
     ]
    }
   ],
   "source": [
    "# show common Course 1 example\n",
    "X = np.array([[1],[2],[3],[4]])\n",
    "w = np.array([2])\n",
    "c = np.dot(X[1], w)\n",
    "\n",
    "print(f\"X[1] has shape {X[1].shape}\")\n",
    "print(f\"w has shape {w.shape}\")\n",
    "print(f\"c has shape {c.shape}\")"
   ]
  },
  {
   "cell_type": "markdown",
   "metadata": {},
   "source": [
    "<a name=\"toc_40015_4\"></a>\n",
    "# 4 Matrices 矩阵\n"
   ]
  },
  {
   "cell_type": "markdown",
   "metadata": {},
   "source": [
    "<a name=\"toc_40015_4.1\"></a>\n",
    "## 4.1 Abstract 摘要\n",
    "Matrices, are two dimensional arrays. The elements of a matrix are all of the same type. In notation, matrices are denoted with capitol, bold letter such as $\\mathbf{X}$. In this and other labs, `m` is often the number of rows and `n` the number of columns. The elements of a matrix can be referenced with a two dimensional index. In math settings, numbers in the index typically run from 1 to n. In computer science and these labs, indexing will run from 0 to n-1.  \n",
    "<figure>\n",
    "    <center> <img src=\"./images/C1_W2_Lab04_Matrices.PNG\"  alt='missing'  width=900><center/>\n",
    "    <figcaption> Generic Matrix Notation, 1st index is row, 2nd is column </figcaption>\n",
    "<figure/>\n",
    "        \n",
    " 矩阵是2维的数组。矩阵中的元素类型一致。习惯上，矩阵用大写加粗英文字母表示，例如$\\mathbf{X}$。在本lab和其他lab中，`m`通常定义为矩阵的行数，`n`定义为矩阵的列数。矩阵中的元素可以使用2维索引访问。在数学上，索引从1到n；而在计算机科学中，索引从0到n-1。"
   ]
  },
  {
   "cell_type": "markdown",
   "metadata": {},
   "source": [
    "<a name=\"toc_40015_4.2\"></a>\n",
    "## 4.2 NumPy Arrays NumPy数组\n",
    "\n",
    "NumPy's basic data structure is an indexable, n-dimensional *array* containing elements of the same type (`dtype`). These were described earlier. Matrices have a two-dimensional (2-D) index [m,n].\n",
    "\n",
    "In Course 1, 2-D matrices are used to hold training data. Training data is $m$ examples by $n$ features creating an (m,n) array. Course 1 does not do operations directly on matrices but typically extracts an example as a vector and operates on that. Below you will review: \n",
    "- data creation\n",
    "- slicing and indexing\n",
    "\n",
    "正如前面提到的，NumPy的基本数据结构是一个可索引的n维数组，包含具有相同类型(`dtype`)的元素。矩阵的索引为2D，记为[m,n]\n",
    "\n",
    "在课程1中。2D矩阵用于存储训练数据。训练数据有$m$个样例，$n$个特征值，组成(m,n)大小的矩阵。课程以不会直接对矩阵进行操作，而是提取出矩阵中的一个个样例，作为向量并处理。之后你会复习到：\n",
    "- 数据创建\n",
    "- 索引和切片"
   ]
  },
  {
   "cell_type": "markdown",
   "metadata": {},
   "source": [
    "<a name=\"toc_40015_4.3\"></a>\n",
    "## 4.3 Matrix Creation 矩阵创建\n",
    "The same functions that created 1-D vectors will create 2-D or n-D arrays. Here are some examples\n",
    "\n",
    "创建1D向量的方法也可以用于创建2D或nD数组。下面是一些例子。"
   ]
  },
  {
   "cell_type": "markdown",
   "metadata": {},
   "source": [
    "Below, the shape tuple is provided to achieve a 2-D result. Notice how NumPy uses brackets to denote each dimension. Notice further than NumPy, when printing, will print one row per line.\n",
    "\n",
    "如下，shape元组指定了2D的形状。注意numpy使用括号来表示每个维度。更进一步，当输出的时候，每行输出数组的一行。"
   ]
  },
  {
   "cell_type": "code",
   "execution_count": 2,
   "metadata": {},
   "outputs": [
    {
     "name": "stdout",
     "output_type": "stream",
     "text": [
      "a shape = (1, 5), a = [[0. 0. 0. 0. 0.]]\n",
      "a shape = (2, 1), a = [[0.]\n",
      " [0.]]\n",
      "a shape = (1, 1), a = [[0.04199024]]\n"
     ]
    }
   ],
   "source": [
    "a = np.zeros((1, 5))                                       \n",
    "print(f\"a shape = {a.shape}, a = {a}\")                     \n",
    "\n",
    "a = np.zeros((2, 1))                                                                   \n",
    "print(f\"a shape = {a.shape}, a = {a}\") \n",
    "\n",
    "a = np.random.random_sample((1, 1))  \n",
    "print(f\"a shape = {a.shape}, a = {a}\") "
   ]
  },
  {
   "cell_type": "markdown",
   "metadata": {},
   "source": [
    "One can also manually specify data. Dimensions are specified with additional brackets matching the format in the printing above.\n",
    "\n",
    "你同样可以手动输入信息。通过类似上面输出的方括号格式来组织数据。"
   ]
  },
  {
   "cell_type": "code",
   "execution_count": 3,
   "metadata": {},
   "outputs": [
    {
     "name": "stdout",
     "output_type": "stream",
     "text": [
      " a shape = (3, 1), np.array: a = [[5]\n",
      " [4]\n",
      " [3]]\n",
      " a shape = (3, 1), np.array: a = [[5]\n",
      " [4]\n",
      " [3]]\n"
     ]
    }
   ],
   "source": [
    "# NumPy routines which allocate memory and fill with user specified values\n",
    "a = np.array([[5], [4], [3]]);   print(f\" a shape = {a.shape}, np.array: a = {a}\")\n",
    "a = np.array([[5],   # One can also\n",
    "              [4],   # separate values\n",
    "              [3]]); #into separate rows\n",
    "print(f\" a shape = {a.shape}, np.array: a = {a}\")"
   ]
  },
  {
   "cell_type": "markdown",
   "metadata": {},
   "source": [
    "<a name=\"toc_40015_4.4\"></a>\n",
    "## 4.4 Operations on Matrices 矩阵操作\n",
    "Let's explore some operations using matrices.\n",
    "\n",
    "让我们研究一下矩阵的一些操作"
   ]
  },
  {
   "cell_type": "markdown",
   "metadata": {},
   "source": [
    "<a name=\"toc_40015_4.4.1\"></a>\n",
    "### 4.4.1 Indexing 索引\n"
   ]
  },
  {
   "cell_type": "markdown",
   "metadata": {},
   "source": [
    "Matrices include a second index. The two indexes describe [row, column]. Access can either return an element or a row/column. See below:\n",
    "\n",
    "矩阵有第二个索引，两个索引分别表示[行，列]。既可以访问矩阵中的一个元素，也可以访问矩阵中的某行/列，如下："
   ]
  },
  {
   "cell_type": "code",
   "execution_count": 4,
   "metadata": {},
   "outputs": [
    {
     "name": "stdout",
     "output_type": "stream",
     "text": [
      "a.shape: (3, 2), \n",
      "a= [[0 1]\n",
      " [2 3]\n",
      " [4 5]]\n",
      "\n",
      "a[2,0].shape:   (), a[2,0] = 4,     type(a[2,0]) = <class 'numpy.int32'> Accessing an element returns a scalar\n",
      "\n",
      "a[2].shape:   (2,), a[2]   = [4 5], type(a[2])   = <class 'numpy.ndarray'>\n"
     ]
    }
   ],
   "source": [
    "#vector indexing operations on matrices\n",
    "a = np.arange(6).reshape(-1, 2)   #reshape is a convenient way to create matrices\n",
    "print(f\"a.shape: {a.shape}, \\na= {a}\")\n",
    "\n",
    "#access an element\n",
    "print(f\"\\na[2,0].shape:   {a[2, 0].shape}, a[2,0] = {a[2, 0]},     type(a[2,0]) = {type(a[2, 0])} Accessing an element returns a scalar\\n\")\n",
    "\n",
    "#access a row\n",
    "print(f\"a[2].shape:   {a[2].shape}, a[2]   = {a[2]}, type(a[2])   = {type(a[2])}\")"
   ]
  },
  {
   "cell_type": "markdown",
   "metadata": {},
   "source": [
    "It is worth drawing attention to the last example. Accessing a matrix by just specifying the row will return a *1-D vector*.\n",
    "\n",
    "请注意最后一个测试样例。只指定行来访问矩阵会返回一个1D向量"
   ]
  },
  {
   "cell_type": "markdown",
   "metadata": {},
   "source": [
    "**Reshape**  \n",
    "The previous example used [reshape](https://numpy.org/doc/stable/reference/generated/numpy.reshape.html) to shape the array.  \n",
    "`a = np.arange(6).reshape(-1, 2) `   \n",
    "This line of code first created a *1-D Vector* of six elements. It then reshaped that vector into a *2-D* array using the reshape command. This could have been written:  \n",
    "`a = np.arange(6).reshape(3, 2) `  \n",
    "To arrive at the same 3 row, 2 column array.\n",
    "The -1 argument tells the routine to compute the number of rows given the size of the array and the number of columns.\n",
    "\n",
    "前面的样例使用了`.reshape`方法[reshape](https://numpy.org/doc/stable/reference/generated/numpy.reshape.html)来修改数组的形状。\n",
    "`a = np.arange(6).reshape(-1, 2) `  \n",
    "这行代码首先创建一个1D向量，包含6个元组。接着使用reshape命令，将向量的形状修改为2D数组，也可以写为：\n",
    "`a = np.arange(6).reshape(3, 2) `\n",
    "同样可以获得一个3行2列的数组。\n",
    "参数-1使得程序使用给定的数组大小和列数计算被缺省的行数\n"
   ]
  },
  {
   "cell_type": "markdown",
   "metadata": {},
   "source": [
    "<a name=\"toc_40015_4.4.2\"></a>\n",
    "### 4.4.2 Slicing 切片\n",
    "Slicing creates an array of indices using a set of three values (`start:stop:step`). A subset of values is also valid. Its use is best explained by example:\n",
    "\n",
    "使用(`start:stop:step`)的集合来创建数组的切片。只包含值的切片也是可行的。最好的理解方式就是通过样例："
   ]
  },
  {
   "cell_type": "code",
   "execution_count": 5,
   "metadata": {},
   "outputs": [
    {
     "name": "stdout",
     "output_type": "stream",
     "text": [
      "a = \n",
      "[[ 0  1  2  3  4  5  6  7  8  9]\n",
      " [10 11 12 13 14 15 16 17 18 19]]\n",
      "a[0, 2:7:1] =  [2 3 4 5 6] ,  a[0, 2:7:1].shape = (5,) a 1-D array\n",
      "a[:, 2:7:1] = \n",
      " [[ 2  3  4  5  6]\n",
      " [12 13 14 15 16]] ,  a[:, 2:7:1].shape = (2, 5) a 2-D array\n",
      "a[:,:] = \n",
      " [[ 0  1  2  3  4  5  6  7  8  9]\n",
      " [10 11 12 13 14 15 16 17 18 19]] ,  a[:,:].shape = (2, 10)\n",
      "a[1,:] =  [10 11 12 13 14 15 16 17 18 19] ,  a[1,:].shape = (10,) a 1-D array\n",
      "a[1]   =  [10 11 12 13 14 15 16 17 18 19] ,  a[1].shape   = (10,) a 1-D array\n"
     ]
    }
   ],
   "source": [
    "#vector 2-D slicing operations\n",
    "a = np.arange(20).reshape(-1, 10)\n",
    "print(f\"a = \\n{a}\")\n",
    "\n",
    "#access 5 consecutive elements (start:stop:step)\n",
    "print(\"a[0, 2:7:1] = \", a[0, 2:7:1], \",  a[0, 2:7:1].shape =\", a[0, 2:7:1].shape, \"a 1-D array\")\n",
    "\n",
    "#access 5 consecutive elements (start:stop:step) in two rows\n",
    "print(\"a[:, 2:7:1] = \\n\", a[:, 2:7:1], \",  a[:, 2:7:1].shape =\", a[:, 2:7:1].shape, \"a 2-D array\")\n",
    "\n",
    "# access all elements\n",
    "print(\"a[:,:] = \\n\", a[:,:], \",  a[:,:].shape =\", a[:,:].shape)\n",
    "\n",
    "# access all elements in one row (very common usage)\n",
    "print(\"a[1,:] = \", a[1,:], \",  a[1,:].shape =\", a[1,:].shape, \"a 1-D array\")\n",
    "# same as\n",
    "print(\"a[1]   = \", a[1],   \",  a[1].shape   =\", a[1].shape, \"a 1-D array\")\n"
   ]
  },
  {
   "cell_type": "markdown",
   "metadata": {},
   "source": [
    "<a name=\"toc_40015_5.0\"></a>\n",
    "## Congratulations! \n",
    "In this lab you mastered the features of Python and NumPy that are needed for Course 1.\n",
    "\n",
    "在这个lab中，你掌握了课程1中所需的Python和NumPy功能。"
   ]
  },
  {
   "cell_type": "code",
   "execution_count": null,
   "metadata": {},
   "outputs": [],
   "source": []
  }
 ],
 "metadata": {
  "dl_toc_settings": {
   "rndtag": "40015"
  },
  "kernelspec": {
   "display_name": "Python 3 (ipykernel)",
   "language": "python",
   "name": "python3"
  },
  "language_info": {
   "codemirror_mode": {
    "name": "ipython",
    "version": 3
   },
   "file_extension": ".py",
   "mimetype": "text/x-python",
   "name": "python",
   "nbconvert_exporter": "python",
   "pygments_lexer": "ipython3",
   "version": "3.9.13"
  },
  "toc-autonumbering": false
 },
 "nbformat": 4,
 "nbformat_minor": 4
}
