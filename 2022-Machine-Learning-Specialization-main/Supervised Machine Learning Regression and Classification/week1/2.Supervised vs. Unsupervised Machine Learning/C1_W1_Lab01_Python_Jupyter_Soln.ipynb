{
 "cells": [
  {
   "cell_type": "markdown",
   "id": "5b522e3c",
   "metadata": {},
   "source": [
    "# Optional Lab:  Brief Introduction to Python and Jupyter Notebooks\n",
    "Welcome to the first optional lab! \n",
    "Optional labs are available to:\n",
    "欢迎来到第一个可选实验！可选实验能够：\n",
    "- provide information - like this notebook\n",
    "提供信息 - 就像这个notebook一样\n",
    "- reinforce lecture material with hands-on examples\n",
    "通过逐步的案例帮助你强化课程内容\n",
    "- provide working examples of routines used in the graded labs\n",
    "提供在高级实验中会用到的工作习惯案例"
   ]
  },
  {
   "cell_type": "markdown",
   "id": "10f93fb3",
   "metadata": {},
   "source": [
    "## Goals\n",
    "In this lab, you will:\n",
    "本实验能够使你：\n",
    "- Get a brief introduction to Jupyter notebooks\n",
    "简单学习Jupyter notebooks\n",
    "- Take a tour of Jupyter notebooks\n",
    "尝试使用Jupyter notebook\n",
    "- Learn the difference between markdown cells and code cells\n",
    "了解markdown单元格和code单元格的不同\n",
    "- Practice some basic python\n",
    "练习基本的python编程\n"
   ]
  },
  {
   "cell_type": "markdown",
   "id": "5bbaf6c1",
   "metadata": {},
   "source": [
    "The easiest way to become familiar with Jupyter notebooks is to take the tour available above in the Help menu:\n",
    "熟悉Jupyter notebooks的最简单的办法就是使用帮助菜单（Help menu）中的学习旅程"
   ]
  },
  {
   "cell_type": "markdown",
   "id": "81a193b9",
   "metadata": {},
   "source": [
    "<figure>\n",
    "    <center> <img src=\"../work/images/C1W1L1_Tour.PNG\"  alt='missing' width=\"400\"  ><center/>\n",
    "<figure/>"
   ]
  },
  {
   "cell_type": "markdown",
   "id": "63aa6f18",
   "metadata": {},
   "source": [
    "Jupyter notebooks have two types of cells that are used in this course. Cells such as this which contain documentation called `Markdown Cells`. The name is derived from the simple formatting language used in the cells. You will not be required to produce markdown cells. Its useful to understand the `cell pulldown` shown in graphic below. Occasionally, a cell will end up in the wrong mode and you may need to restore it to the right state:\n",
    "\n",
    "Jupyter notebooks 有两种类型的单元格，类似当前单元格这样的，包含文本内容的称为“Markdown单元格”。这个命名来自于单元格使用的格式化语言。markdown单元格不是必须有的。理解下图中的“单元格下拉菜单”也是很有必要的。有些时候，你需要使用这里，将单元格修改为正确的格式。"
   ]
  },
  {
   "cell_type": "markdown",
   "id": "9c0b5f46",
   "metadata": {},
   "source": [
    "<figure>\n",
    "   <img src=\"../work/images/C1W1L1_Markdown.PNG\"  alt='missing' width=\"400\"  >\n",
    "<figure/>"
   ]
  },
  {
   "cell_type": "markdown",
   "id": "ff9e3310",
   "metadata": {},
   "source": [
    "The other type of cell is the `code cell` where you will write your code:\n",
    "另一种单元格称为“code单元格”，你在该单元格内编写代码。"
   ]
  },
  {
   "cell_type": "code",
   "execution_count": 1,
   "id": "02131be2",
   "metadata": {},
   "outputs": [
    {
     "name": "stdout",
     "output_type": "stream",
     "text": [
      "This is  code cell\n"
     ]
    }
   ],
   "source": [
    "#This is  a 'Code' Cell\n",
    "print(\"This is  code cell\")"
   ]
  },
  {
   "cell_type": "markdown",
   "id": "08f37208",
   "metadata": {},
   "source": [
    "## Python\n",
    "You can write your code in the code cells. \n",
    "你可以在code单元格编写自己的代码\n",
    "To run the code, select the cell and either\n",
    "想要运行代码的话，你可以先选中单元格，然后\n",
    "- hold the shift-key down and hit 'enter' or 'return'\n",
    "按Shift + Enter或Shift + Return\n",
    "- click the 'run' arrow above\n",
    "点击上面的“运行”\n",
    "<figure>\n",
    "    <img src=\"../work/images/C1W1L1_Run.PNG\"  width=\"400\"  >\n",
    "<figure/>\n",
    "\n",
    " "
   ]
  },
  {
   "cell_type": "markdown",
   "id": "d94e0ed6",
   "metadata": {},
   "source": [
    "### Print statement\n",
    "Print statements will generally use the python f-string style. \n",
    "print语句通常使用f-string格式\n",
    "Try creating your own print in the following cell.  \n",
    "试着在下面的单元格创建自己的输出吧\n",
    "Try both methods of running the cell.\n",
    "记得分别使用上述的两种运行方法来试试"
   ]
  },
  {
   "cell_type": "code",
   "execution_count": 3,
   "id": "9d7ca1f1",
   "metadata": {},
   "outputs": [
    {
     "name": "stdout",
     "output_type": "stream",
     "text": [
      "f strings allow you to embed variables right in the strings!\n"
     ]
    }
   ],
   "source": [
    "# print statements\n",
    "variable = \"right in the strings!\"\n",
    "print(f\"f strings allow you to embed variables {variable}\")"
   ]
  },
  {
   "cell_type": "markdown",
   "id": "d26b4f4c",
   "metadata": {},
   "source": [
    "# Congratulations!\n",
    "You now know how to find your way around a Jupyter Notebook."
   ]
  }
 ],
 "metadata": {
  "kernelspec": {
   "display_name": "Python 3 (ipykernel)",
   "language": "python",
   "name": "python3"
  },
  "language_info": {
   "codemirror_mode": {
    "name": "ipython",
    "version": 3
   },
   "file_extension": ".py",
   "mimetype": "text/x-python",
   "name": "python",
   "nbconvert_exporter": "python",
   "pygments_lexer": "ipython3",
   "version": "3.9.13"
  }
 },
 "nbformat": 4,
 "nbformat_minor": 5
}
