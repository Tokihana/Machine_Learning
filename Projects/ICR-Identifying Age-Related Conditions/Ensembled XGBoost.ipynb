{
 "cells": [
  {
   "cell_type": "code",
   "execution_count": 1,
   "id": "a10ccc68",
   "metadata": {
    "_cell_guid": "b1076dfc-b9ad-4769-8c92-a6c4dae69d19",
    "_uuid": "8f2839f25d086af736a60e9eeb907d3b93b6e0e5",
    "execution": {
     "iopub.execute_input": "2023-08-10T09:29:38.447511Z",
     "iopub.status.busy": "2023-08-10T09:29:38.447129Z",
     "iopub.status.idle": "2023-08-10T09:29:38.462780Z",
     "shell.execute_reply": "2023-08-10T09:29:38.461437Z"
    },
    "papermill": {
     "duration": 0.027845,
     "end_time": "2023-08-10T09:29:38.465270",
     "exception": false,
     "start_time": "2023-08-10T09:29:38.437425",
     "status": "completed"
    },
    "tags": []
   },
   "outputs": [
    {
     "name": "stdout",
     "output_type": "stream",
     "text": [
      "/kaggle/input/icr-identify-age-related-conditions/sample_submission.csv\n",
      "/kaggle/input/icr-identify-age-related-conditions/greeks.csv\n",
      "/kaggle/input/icr-identify-age-related-conditions/train.csv\n",
      "/kaggle/input/icr-identify-age-related-conditions/test.csv\n"
     ]
    }
   ],
   "source": [
    "# This Python 3 environment comes with many helpful analytics libraries installed\n",
    "# It is defined by the kaggle/python Docker image: https://github.com/kaggle/docker-python\n",
    "# For example, here's several helpful packages to load\n",
    "\n",
    "import numpy as np # linear algebra\n",
    "import pandas as pd # data processing, CSV file I/O (e.g. pd.read_csv)\n",
    "\n",
    "# Input data files are available in the read-only \"../input/\" directory\n",
    "# For example, running this (by clicking run or pressing Shift+Enter) will list all files under the input directory\n",
    "\n",
    "import os\n",
    "for dirname, _, filenames in os.walk('/kaggle/input'):\n",
    "    for filename in filenames:\n",
    "        print(os.path.join(dirname, filename))\n",
    "\n",
    "# You can write up to 20GB to the current directory (/kaggle/working/) that gets preserved as output when you create a version using \"Save & Run All\" \n",
    "# You can also write temporary files to /kaggle/temp/, but they won't be saved outside of the current session"
   ]
  },
  {
   "cell_type": "markdown",
   "id": "16784fd9",
   "metadata": {
    "papermill": {
     "duration": 0.008352,
     "end_time": "2023-08-10T09:29:38.482417",
     "exception": false,
     "start_time": "2023-08-10T09:29:38.474065",
     "status": "completed"
    },
    "tags": []
   },
   "source": [
    "# Load Data"
   ]
  },
  {
   "cell_type": "code",
   "execution_count": 2,
   "id": "cdd4bccc",
   "metadata": {
    "execution": {
     "iopub.execute_input": "2023-08-10T09:29:38.499939Z",
     "iopub.status.busy": "2023-08-10T09:29:38.499562Z",
     "iopub.status.idle": "2023-08-10T09:29:38.548723Z",
     "shell.execute_reply": "2023-08-10T09:29:38.547625Z"
    },
    "papermill": {
     "duration": 0.061395,
     "end_time": "2023-08-10T09:29:38.551611",
     "exception": false,
     "start_time": "2023-08-10T09:29:38.490216",
     "status": "completed"
    },
    "tags": []
   },
   "outputs": [],
   "source": [
    "train = pd.read_csv('/kaggle/input/icr-identify-age-related-conditions/train.csv')\n",
    "test = pd.read_csv('/kaggle/input/icr-identify-age-related-conditions/test.csv')"
   ]
  },
  {
   "cell_type": "code",
   "execution_count": 3,
   "id": "13192d5b",
   "metadata": {
    "execution": {
     "iopub.execute_input": "2023-08-10T09:29:38.569541Z",
     "iopub.status.busy": "2023-08-10T09:29:38.569156Z",
     "iopub.status.idle": "2023-08-10T09:29:38.611529Z",
     "shell.execute_reply": "2023-08-10T09:29:38.610353Z"
    },
    "papermill": {
     "duration": 0.054119,
     "end_time": "2023-08-10T09:29:38.614012",
     "exception": false,
     "start_time": "2023-08-10T09:29:38.559893",
     "status": "completed"
    },
    "tags": []
   },
   "outputs": [
    {
     "data": {
      "text/html": [
       "<div>\n",
       "<style scoped>\n",
       "    .dataframe tbody tr th:only-of-type {\n",
       "        vertical-align: middle;\n",
       "    }\n",
       "\n",
       "    .dataframe tbody tr th {\n",
       "        vertical-align: top;\n",
       "    }\n",
       "\n",
       "    .dataframe thead th {\n",
       "        text-align: right;\n",
       "    }\n",
       "</style>\n",
       "<table border=\"1\" class=\"dataframe\">\n",
       "  <thead>\n",
       "    <tr style=\"text-align: right;\">\n",
       "      <th></th>\n",
       "      <th>Id</th>\n",
       "      <th>AB</th>\n",
       "      <th>AF</th>\n",
       "      <th>AH</th>\n",
       "      <th>AM</th>\n",
       "      <th>AR</th>\n",
       "      <th>AX</th>\n",
       "      <th>AY</th>\n",
       "      <th>AZ</th>\n",
       "      <th>BC</th>\n",
       "      <th>...</th>\n",
       "      <th>FL</th>\n",
       "      <th>FR</th>\n",
       "      <th>FS</th>\n",
       "      <th>GB</th>\n",
       "      <th>GE</th>\n",
       "      <th>GF</th>\n",
       "      <th>GH</th>\n",
       "      <th>GI</th>\n",
       "      <th>GL</th>\n",
       "      <th>Class</th>\n",
       "    </tr>\n",
       "  </thead>\n",
       "  <tbody>\n",
       "    <tr>\n",
       "      <th>0</th>\n",
       "      <td>000ff2bfdfe9</td>\n",
       "      <td>0.209377</td>\n",
       "      <td>3109.03329</td>\n",
       "      <td>85.200147</td>\n",
       "      <td>22.394407</td>\n",
       "      <td>8.138688</td>\n",
       "      <td>0.699861</td>\n",
       "      <td>0.025578</td>\n",
       "      <td>9.812214</td>\n",
       "      <td>5.555634</td>\n",
       "      <td>...</td>\n",
       "      <td>7.298162</td>\n",
       "      <td>1.73855</td>\n",
       "      <td>0.094822</td>\n",
       "      <td>11.339138</td>\n",
       "      <td>72.611063</td>\n",
       "      <td>2003.810319</td>\n",
       "      <td>22.136229</td>\n",
       "      <td>69.834944</td>\n",
       "      <td>0.120343</td>\n",
       "      <td>1</td>\n",
       "    </tr>\n",
       "    <tr>\n",
       "      <th>1</th>\n",
       "      <td>007255e47698</td>\n",
       "      <td>0.145282</td>\n",
       "      <td>978.76416</td>\n",
       "      <td>85.200147</td>\n",
       "      <td>36.968889</td>\n",
       "      <td>8.138688</td>\n",
       "      <td>3.632190</td>\n",
       "      <td>0.025578</td>\n",
       "      <td>13.517790</td>\n",
       "      <td>1.229900</td>\n",
       "      <td>...</td>\n",
       "      <td>0.173229</td>\n",
       "      <td>0.49706</td>\n",
       "      <td>0.568932</td>\n",
       "      <td>9.292698</td>\n",
       "      <td>72.611063</td>\n",
       "      <td>27981.562750</td>\n",
       "      <td>29.135430</td>\n",
       "      <td>32.131996</td>\n",
       "      <td>21.978000</td>\n",
       "      <td>0</td>\n",
       "    </tr>\n",
       "    <tr>\n",
       "      <th>2</th>\n",
       "      <td>013f2bd269f5</td>\n",
       "      <td>0.470030</td>\n",
       "      <td>2635.10654</td>\n",
       "      <td>85.200147</td>\n",
       "      <td>32.360553</td>\n",
       "      <td>8.138688</td>\n",
       "      <td>6.732840</td>\n",
       "      <td>0.025578</td>\n",
       "      <td>12.824570</td>\n",
       "      <td>1.229900</td>\n",
       "      <td>...</td>\n",
       "      <td>7.709560</td>\n",
       "      <td>0.97556</td>\n",
       "      <td>1.198821</td>\n",
       "      <td>37.077772</td>\n",
       "      <td>88.609437</td>\n",
       "      <td>13676.957810</td>\n",
       "      <td>28.022851</td>\n",
       "      <td>35.192676</td>\n",
       "      <td>0.196941</td>\n",
       "      <td>0</td>\n",
       "    </tr>\n",
       "    <tr>\n",
       "      <th>3</th>\n",
       "      <td>043ac50845d5</td>\n",
       "      <td>0.252107</td>\n",
       "      <td>3819.65177</td>\n",
       "      <td>120.201618</td>\n",
       "      <td>77.112203</td>\n",
       "      <td>8.138688</td>\n",
       "      <td>3.685344</td>\n",
       "      <td>0.025578</td>\n",
       "      <td>11.053708</td>\n",
       "      <td>1.229900</td>\n",
       "      <td>...</td>\n",
       "      <td>6.122162</td>\n",
       "      <td>0.49706</td>\n",
       "      <td>0.284466</td>\n",
       "      <td>18.529584</td>\n",
       "      <td>82.416803</td>\n",
       "      <td>2094.262452</td>\n",
       "      <td>39.948656</td>\n",
       "      <td>90.493248</td>\n",
       "      <td>0.155829</td>\n",
       "      <td>0</td>\n",
       "    </tr>\n",
       "    <tr>\n",
       "      <th>4</th>\n",
       "      <td>044fb8a146ec</td>\n",
       "      <td>0.380297</td>\n",
       "      <td>3733.04844</td>\n",
       "      <td>85.200147</td>\n",
       "      <td>14.103738</td>\n",
       "      <td>8.138688</td>\n",
       "      <td>3.942255</td>\n",
       "      <td>0.054810</td>\n",
       "      <td>3.396778</td>\n",
       "      <td>102.151980</td>\n",
       "      <td>...</td>\n",
       "      <td>8.153058</td>\n",
       "      <td>48.50134</td>\n",
       "      <td>0.121914</td>\n",
       "      <td>16.408728</td>\n",
       "      <td>146.109943</td>\n",
       "      <td>8524.370502</td>\n",
       "      <td>45.381316</td>\n",
       "      <td>36.262628</td>\n",
       "      <td>0.096614</td>\n",
       "      <td>1</td>\n",
       "    </tr>\n",
       "  </tbody>\n",
       "</table>\n",
       "<p>5 rows × 58 columns</p>\n",
       "</div>"
      ],
      "text/plain": [
       "             Id        AB          AF          AH         AM        AR  \\\n",
       "0  000ff2bfdfe9  0.209377  3109.03329   85.200147  22.394407  8.138688   \n",
       "1  007255e47698  0.145282   978.76416   85.200147  36.968889  8.138688   \n",
       "2  013f2bd269f5  0.470030  2635.10654   85.200147  32.360553  8.138688   \n",
       "3  043ac50845d5  0.252107  3819.65177  120.201618  77.112203  8.138688   \n",
       "4  044fb8a146ec  0.380297  3733.04844   85.200147  14.103738  8.138688   \n",
       "\n",
       "         AX        AY         AZ          BC  ...        FL        FR  \\\n",
       "0  0.699861  0.025578   9.812214    5.555634  ...  7.298162   1.73855   \n",
       "1  3.632190  0.025578  13.517790    1.229900  ...  0.173229   0.49706   \n",
       "2  6.732840  0.025578  12.824570    1.229900  ...  7.709560   0.97556   \n",
       "3  3.685344  0.025578  11.053708    1.229900  ...  6.122162   0.49706   \n",
       "4  3.942255  0.054810   3.396778  102.151980  ...  8.153058  48.50134   \n",
       "\n",
       "         FS         GB          GE            GF         GH         GI  \\\n",
       "0  0.094822  11.339138   72.611063   2003.810319  22.136229  69.834944   \n",
       "1  0.568932   9.292698   72.611063  27981.562750  29.135430  32.131996   \n",
       "2  1.198821  37.077772   88.609437  13676.957810  28.022851  35.192676   \n",
       "3  0.284466  18.529584   82.416803   2094.262452  39.948656  90.493248   \n",
       "4  0.121914  16.408728  146.109943   8524.370502  45.381316  36.262628   \n",
       "\n",
       "          GL  Class  \n",
       "0   0.120343      1  \n",
       "1  21.978000      0  \n",
       "2   0.196941      0  \n",
       "3   0.155829      0  \n",
       "4   0.096614      1  \n",
       "\n",
       "[5 rows x 58 columns]"
      ]
     },
     "execution_count": 3,
     "metadata": {},
     "output_type": "execute_result"
    }
   ],
   "source": [
    "train.head()"
   ]
  },
  {
   "cell_type": "code",
   "execution_count": 4,
   "id": "e13de950",
   "metadata": {
    "execution": {
     "iopub.execute_input": "2023-08-10T09:29:38.634018Z",
     "iopub.status.busy": "2023-08-10T09:29:38.633608Z",
     "iopub.status.idle": "2023-08-10T09:29:38.668673Z",
     "shell.execute_reply": "2023-08-10T09:29:38.667842Z"
    },
    "papermill": {
     "duration": 0.048888,
     "end_time": "2023-08-10T09:29:38.671107",
     "exception": false,
     "start_time": "2023-08-10T09:29:38.622219",
     "status": "completed"
    },
    "tags": []
   },
   "outputs": [
    {
     "data": {
      "text/html": [
       "<div>\n",
       "<style scoped>\n",
       "    .dataframe tbody tr th:only-of-type {\n",
       "        vertical-align: middle;\n",
       "    }\n",
       "\n",
       "    .dataframe tbody tr th {\n",
       "        vertical-align: top;\n",
       "    }\n",
       "\n",
       "    .dataframe thead th {\n",
       "        text-align: right;\n",
       "    }\n",
       "</style>\n",
       "<table border=\"1\" class=\"dataframe\">\n",
       "  <thead>\n",
       "    <tr style=\"text-align: right;\">\n",
       "      <th></th>\n",
       "      <th>Id</th>\n",
       "      <th>AB</th>\n",
       "      <th>AF</th>\n",
       "      <th>AH</th>\n",
       "      <th>AM</th>\n",
       "      <th>AR</th>\n",
       "      <th>AX</th>\n",
       "      <th>AY</th>\n",
       "      <th>AZ</th>\n",
       "      <th>BC</th>\n",
       "      <th>...</th>\n",
       "      <th>FI</th>\n",
       "      <th>FL</th>\n",
       "      <th>FR</th>\n",
       "      <th>FS</th>\n",
       "      <th>GB</th>\n",
       "      <th>GE</th>\n",
       "      <th>GF</th>\n",
       "      <th>GH</th>\n",
       "      <th>GI</th>\n",
       "      <th>GL</th>\n",
       "    </tr>\n",
       "  </thead>\n",
       "  <tbody>\n",
       "    <tr>\n",
       "      <th>0</th>\n",
       "      <td>00eed32682bb</td>\n",
       "      <td>0.0</td>\n",
       "      <td>0.0</td>\n",
       "      <td>0.0</td>\n",
       "      <td>0.0</td>\n",
       "      <td>0.0</td>\n",
       "      <td>0.0</td>\n",
       "      <td>0.0</td>\n",
       "      <td>0.0</td>\n",
       "      <td>0.0</td>\n",
       "      <td>...</td>\n",
       "      <td>0.0</td>\n",
       "      <td>0.0</td>\n",
       "      <td>0.0</td>\n",
       "      <td>0.0</td>\n",
       "      <td>0.0</td>\n",
       "      <td>0.0</td>\n",
       "      <td>0.0</td>\n",
       "      <td>0.0</td>\n",
       "      <td>0.0</td>\n",
       "      <td>0.0</td>\n",
       "    </tr>\n",
       "    <tr>\n",
       "      <th>1</th>\n",
       "      <td>010ebe33f668</td>\n",
       "      <td>0.0</td>\n",
       "      <td>0.0</td>\n",
       "      <td>0.0</td>\n",
       "      <td>0.0</td>\n",
       "      <td>0.0</td>\n",
       "      <td>0.0</td>\n",
       "      <td>0.0</td>\n",
       "      <td>0.0</td>\n",
       "      <td>0.0</td>\n",
       "      <td>...</td>\n",
       "      <td>0.0</td>\n",
       "      <td>0.0</td>\n",
       "      <td>0.0</td>\n",
       "      <td>0.0</td>\n",
       "      <td>0.0</td>\n",
       "      <td>0.0</td>\n",
       "      <td>0.0</td>\n",
       "      <td>0.0</td>\n",
       "      <td>0.0</td>\n",
       "      <td>0.0</td>\n",
       "    </tr>\n",
       "    <tr>\n",
       "      <th>2</th>\n",
       "      <td>02fa521e1838</td>\n",
       "      <td>0.0</td>\n",
       "      <td>0.0</td>\n",
       "      <td>0.0</td>\n",
       "      <td>0.0</td>\n",
       "      <td>0.0</td>\n",
       "      <td>0.0</td>\n",
       "      <td>0.0</td>\n",
       "      <td>0.0</td>\n",
       "      <td>0.0</td>\n",
       "      <td>...</td>\n",
       "      <td>0.0</td>\n",
       "      <td>0.0</td>\n",
       "      <td>0.0</td>\n",
       "      <td>0.0</td>\n",
       "      <td>0.0</td>\n",
       "      <td>0.0</td>\n",
       "      <td>0.0</td>\n",
       "      <td>0.0</td>\n",
       "      <td>0.0</td>\n",
       "      <td>0.0</td>\n",
       "    </tr>\n",
       "    <tr>\n",
       "      <th>3</th>\n",
       "      <td>040e15f562a2</td>\n",
       "      <td>0.0</td>\n",
       "      <td>0.0</td>\n",
       "      <td>0.0</td>\n",
       "      <td>0.0</td>\n",
       "      <td>0.0</td>\n",
       "      <td>0.0</td>\n",
       "      <td>0.0</td>\n",
       "      <td>0.0</td>\n",
       "      <td>0.0</td>\n",
       "      <td>...</td>\n",
       "      <td>0.0</td>\n",
       "      <td>0.0</td>\n",
       "      <td>0.0</td>\n",
       "      <td>0.0</td>\n",
       "      <td>0.0</td>\n",
       "      <td>0.0</td>\n",
       "      <td>0.0</td>\n",
       "      <td>0.0</td>\n",
       "      <td>0.0</td>\n",
       "      <td>0.0</td>\n",
       "    </tr>\n",
       "    <tr>\n",
       "      <th>4</th>\n",
       "      <td>046e85c7cc7f</td>\n",
       "      <td>0.0</td>\n",
       "      <td>0.0</td>\n",
       "      <td>0.0</td>\n",
       "      <td>0.0</td>\n",
       "      <td>0.0</td>\n",
       "      <td>0.0</td>\n",
       "      <td>0.0</td>\n",
       "      <td>0.0</td>\n",
       "      <td>0.0</td>\n",
       "      <td>...</td>\n",
       "      <td>0.0</td>\n",
       "      <td>0.0</td>\n",
       "      <td>0.0</td>\n",
       "      <td>0.0</td>\n",
       "      <td>0.0</td>\n",
       "      <td>0.0</td>\n",
       "      <td>0.0</td>\n",
       "      <td>0.0</td>\n",
       "      <td>0.0</td>\n",
       "      <td>0.0</td>\n",
       "    </tr>\n",
       "  </tbody>\n",
       "</table>\n",
       "<p>5 rows × 57 columns</p>\n",
       "</div>"
      ],
      "text/plain": [
       "             Id   AB   AF   AH   AM   AR   AX   AY   AZ   BC  ...   FI   FL  \\\n",
       "0  00eed32682bb  0.0  0.0  0.0  0.0  0.0  0.0  0.0  0.0  0.0  ...  0.0  0.0   \n",
       "1  010ebe33f668  0.0  0.0  0.0  0.0  0.0  0.0  0.0  0.0  0.0  ...  0.0  0.0   \n",
       "2  02fa521e1838  0.0  0.0  0.0  0.0  0.0  0.0  0.0  0.0  0.0  ...  0.0  0.0   \n",
       "3  040e15f562a2  0.0  0.0  0.0  0.0  0.0  0.0  0.0  0.0  0.0  ...  0.0  0.0   \n",
       "4  046e85c7cc7f  0.0  0.0  0.0  0.0  0.0  0.0  0.0  0.0  0.0  ...  0.0  0.0   \n",
       "\n",
       "    FR   FS   GB   GE   GF   GH   GI   GL  \n",
       "0  0.0  0.0  0.0  0.0  0.0  0.0  0.0  0.0  \n",
       "1  0.0  0.0  0.0  0.0  0.0  0.0  0.0  0.0  \n",
       "2  0.0  0.0  0.0  0.0  0.0  0.0  0.0  0.0  \n",
       "3  0.0  0.0  0.0  0.0  0.0  0.0  0.0  0.0  \n",
       "4  0.0  0.0  0.0  0.0  0.0  0.0  0.0  0.0  \n",
       "\n",
       "[5 rows x 57 columns]"
      ]
     },
     "execution_count": 4,
     "metadata": {},
     "output_type": "execute_result"
    }
   ],
   "source": [
    "test.head()"
   ]
  },
  {
   "cell_type": "markdown",
   "id": "003777b0",
   "metadata": {
    "papermill": {
     "duration": 0.008647,
     "end_time": "2023-08-10T09:29:38.688664",
     "exception": false,
     "start_time": "2023-08-10T09:29:38.680017",
     "status": "completed"
    },
    "tags": []
   },
   "source": [
    "# Drop NaN label & Preprocessing data"
   ]
  },
  {
   "cell_type": "code",
   "execution_count": 5,
   "id": "558df9bd",
   "metadata": {
    "execution": {
     "iopub.execute_input": "2023-08-10T09:29:38.708110Z",
     "iopub.status.busy": "2023-08-10T09:29:38.707408Z",
     "iopub.status.idle": "2023-08-10T09:29:38.720858Z",
     "shell.execute_reply": "2023-08-10T09:29:38.719609Z"
    },
    "papermill": {
     "duration": 0.026355,
     "end_time": "2023-08-10T09:29:38.723818",
     "exception": false,
     "start_time": "2023-08-10T09:29:38.697463",
     "status": "completed"
    },
    "tags": []
   },
   "outputs": [],
   "source": [
    "# labels\n",
    "train.dropna(axis = 0, subset = 'Class', inplace = True)\n",
    "\n",
    "y_train = train['Class']\n",
    "assert not np.any(np.isnan(y_train.values))"
   ]
  },
  {
   "cell_type": "code",
   "execution_count": 6,
   "id": "d36055a3",
   "metadata": {
    "execution": {
     "iopub.execute_input": "2023-08-10T09:29:38.742812Z",
     "iopub.status.busy": "2023-08-10T09:29:38.742366Z",
     "iopub.status.idle": "2023-08-10T09:29:39.873437Z",
     "shell.execute_reply": "2023-08-10T09:29:39.872073Z"
    },
    "papermill": {
     "duration": 1.143882,
     "end_time": "2023-08-10T09:29:39.876269",
     "exception": false,
     "start_time": "2023-08-10T09:29:38.732387",
     "status": "completed"
    },
    "tags": []
   },
   "outputs": [
    {
     "name": "stderr",
     "output_type": "stream",
     "text": [
      "/opt/conda/lib/python3.10/site-packages/scipy/__init__.py:146: UserWarning: A NumPy version >=1.16.5 and <1.23.0 is required for this version of SciPy (detected version 1.23.5\n",
      "  warnings.warn(f\"A NumPy version >={np_minversion} and <{np_maxversion}\"\n"
     ]
    }
   ],
   "source": [
    "from sklearn import preprocessing"
   ]
  },
  {
   "cell_type": "code",
   "execution_count": 7,
   "id": "58098e92",
   "metadata": {
    "execution": {
     "iopub.execute_input": "2023-08-10T09:29:39.896207Z",
     "iopub.status.busy": "2023-08-10T09:29:39.895127Z",
     "iopub.status.idle": "2023-08-10T09:29:39.951887Z",
     "shell.execute_reply": "2023-08-10T09:29:39.950511Z"
    },
    "papermill": {
     "duration": 0.069524,
     "end_time": "2023-08-10T09:29:39.954663",
     "exception": false,
     "start_time": "2023-08-10T09:29:39.885139",
     "status": "completed"
    },
    "tags": []
   },
   "outputs": [
    {
     "name": "stdout",
     "output_type": "stream",
     "text": [
      "57\n"
     ]
    }
   ],
   "source": [
    "# train\n",
    "train_EJ = train['EJ']\n",
    "X_train = train.drop(['Id', 'Class','EJ'], axis = 1)\n",
    "X_train.fillna(X_train.mean(), inplace = True)\n",
    "\n",
    "X_train = pd.DataFrame(preprocessing.scale(X_train))\n",
    "X_train['EJ_A'] = (train_EJ == \"A\").astype(int)\n",
    "X_train['EJ_B'] = (train_EJ == 'B').astype(int)\n",
    "\n",
    "assert not np.any(np.isnan(X_train.values))\n",
    "print(len(X_train.columns))\n",
    "# X_train.head()"
   ]
  },
  {
   "cell_type": "code",
   "execution_count": 8,
   "id": "829558f4",
   "metadata": {
    "execution": {
     "iopub.execute_input": "2023-08-10T09:29:39.974339Z",
     "iopub.status.busy": "2023-08-10T09:29:39.973925Z",
     "iopub.status.idle": "2023-08-10T09:29:40.059353Z",
     "shell.execute_reply": "2023-08-10T09:29:40.058107Z"
    },
    "papermill": {
     "duration": 0.098261,
     "end_time": "2023-08-10T09:29:40.061926",
     "exception": false,
     "start_time": "2023-08-10T09:29:39.963665",
     "status": "completed"
    },
    "tags": []
   },
   "outputs": [
    {
     "name": "stdout",
     "output_type": "stream",
     "text": [
      "57\n"
     ]
    },
    {
     "data": {
      "text/html": [
       "<div>\n",
       "<style scoped>\n",
       "    .dataframe tbody tr th:only-of-type {\n",
       "        vertical-align: middle;\n",
       "    }\n",
       "\n",
       "    .dataframe tbody tr th {\n",
       "        vertical-align: top;\n",
       "    }\n",
       "\n",
       "    .dataframe thead th {\n",
       "        text-align: right;\n",
       "    }\n",
       "</style>\n",
       "<table border=\"1\" class=\"dataframe\">\n",
       "  <thead>\n",
       "    <tr style=\"text-align: right;\">\n",
       "      <th></th>\n",
       "      <th>0</th>\n",
       "      <th>1</th>\n",
       "      <th>2</th>\n",
       "      <th>3</th>\n",
       "      <th>4</th>\n",
       "      <th>5</th>\n",
       "      <th>6</th>\n",
       "      <th>7</th>\n",
       "      <th>8</th>\n",
       "      <th>9</th>\n",
       "      <th>...</th>\n",
       "      <th>47</th>\n",
       "      <th>48</th>\n",
       "      <th>49</th>\n",
       "      <th>50</th>\n",
       "      <th>51</th>\n",
       "      <th>52</th>\n",
       "      <th>53</th>\n",
       "      <th>54</th>\n",
       "      <th>EJ_A</th>\n",
       "      <th>EJ_B</th>\n",
       "    </tr>\n",
       "  </thead>\n",
       "  <tbody>\n",
       "    <tr>\n",
       "      <th>0</th>\n",
       "      <td>0.0</td>\n",
       "      <td>0.0</td>\n",
       "      <td>0.0</td>\n",
       "      <td>0.0</td>\n",
       "      <td>0.0</td>\n",
       "      <td>0.0</td>\n",
       "      <td>0.0</td>\n",
       "      <td>0.0</td>\n",
       "      <td>0.0</td>\n",
       "      <td>0.0</td>\n",
       "      <td>...</td>\n",
       "      <td>0.0</td>\n",
       "      <td>0.0</td>\n",
       "      <td>0.0</td>\n",
       "      <td>0.0</td>\n",
       "      <td>0.0</td>\n",
       "      <td>0.0</td>\n",
       "      <td>0.0</td>\n",
       "      <td>0.0</td>\n",
       "      <td>1</td>\n",
       "      <td>0</td>\n",
       "    </tr>\n",
       "    <tr>\n",
       "      <th>1</th>\n",
       "      <td>0.0</td>\n",
       "      <td>0.0</td>\n",
       "      <td>0.0</td>\n",
       "      <td>0.0</td>\n",
       "      <td>0.0</td>\n",
       "      <td>0.0</td>\n",
       "      <td>0.0</td>\n",
       "      <td>0.0</td>\n",
       "      <td>0.0</td>\n",
       "      <td>0.0</td>\n",
       "      <td>...</td>\n",
       "      <td>0.0</td>\n",
       "      <td>0.0</td>\n",
       "      <td>0.0</td>\n",
       "      <td>0.0</td>\n",
       "      <td>0.0</td>\n",
       "      <td>0.0</td>\n",
       "      <td>0.0</td>\n",
       "      <td>0.0</td>\n",
       "      <td>1</td>\n",
       "      <td>0</td>\n",
       "    </tr>\n",
       "    <tr>\n",
       "      <th>2</th>\n",
       "      <td>0.0</td>\n",
       "      <td>0.0</td>\n",
       "      <td>0.0</td>\n",
       "      <td>0.0</td>\n",
       "      <td>0.0</td>\n",
       "      <td>0.0</td>\n",
       "      <td>0.0</td>\n",
       "      <td>0.0</td>\n",
       "      <td>0.0</td>\n",
       "      <td>0.0</td>\n",
       "      <td>...</td>\n",
       "      <td>0.0</td>\n",
       "      <td>0.0</td>\n",
       "      <td>0.0</td>\n",
       "      <td>0.0</td>\n",
       "      <td>0.0</td>\n",
       "      <td>0.0</td>\n",
       "      <td>0.0</td>\n",
       "      <td>0.0</td>\n",
       "      <td>1</td>\n",
       "      <td>0</td>\n",
       "    </tr>\n",
       "    <tr>\n",
       "      <th>3</th>\n",
       "      <td>0.0</td>\n",
       "      <td>0.0</td>\n",
       "      <td>0.0</td>\n",
       "      <td>0.0</td>\n",
       "      <td>0.0</td>\n",
       "      <td>0.0</td>\n",
       "      <td>0.0</td>\n",
       "      <td>0.0</td>\n",
       "      <td>0.0</td>\n",
       "      <td>0.0</td>\n",
       "      <td>...</td>\n",
       "      <td>0.0</td>\n",
       "      <td>0.0</td>\n",
       "      <td>0.0</td>\n",
       "      <td>0.0</td>\n",
       "      <td>0.0</td>\n",
       "      <td>0.0</td>\n",
       "      <td>0.0</td>\n",
       "      <td>0.0</td>\n",
       "      <td>1</td>\n",
       "      <td>0</td>\n",
       "    </tr>\n",
       "    <tr>\n",
       "      <th>4</th>\n",
       "      <td>0.0</td>\n",
       "      <td>0.0</td>\n",
       "      <td>0.0</td>\n",
       "      <td>0.0</td>\n",
       "      <td>0.0</td>\n",
       "      <td>0.0</td>\n",
       "      <td>0.0</td>\n",
       "      <td>0.0</td>\n",
       "      <td>0.0</td>\n",
       "      <td>0.0</td>\n",
       "      <td>...</td>\n",
       "      <td>0.0</td>\n",
       "      <td>0.0</td>\n",
       "      <td>0.0</td>\n",
       "      <td>0.0</td>\n",
       "      <td>0.0</td>\n",
       "      <td>0.0</td>\n",
       "      <td>0.0</td>\n",
       "      <td>0.0</td>\n",
       "      <td>1</td>\n",
       "      <td>0</td>\n",
       "    </tr>\n",
       "  </tbody>\n",
       "</table>\n",
       "<p>5 rows × 57 columns</p>\n",
       "</div>"
      ],
      "text/plain": [
       "     0    1    2    3    4    5    6    7    8    9  ...   47   48   49   50  \\\n",
       "0  0.0  0.0  0.0  0.0  0.0  0.0  0.0  0.0  0.0  0.0  ...  0.0  0.0  0.0  0.0   \n",
       "1  0.0  0.0  0.0  0.0  0.0  0.0  0.0  0.0  0.0  0.0  ...  0.0  0.0  0.0  0.0   \n",
       "2  0.0  0.0  0.0  0.0  0.0  0.0  0.0  0.0  0.0  0.0  ...  0.0  0.0  0.0  0.0   \n",
       "3  0.0  0.0  0.0  0.0  0.0  0.0  0.0  0.0  0.0  0.0  ...  0.0  0.0  0.0  0.0   \n",
       "4  0.0  0.0  0.0  0.0  0.0  0.0  0.0  0.0  0.0  0.0  ...  0.0  0.0  0.0  0.0   \n",
       "\n",
       "    51   52   53   54  EJ_A  EJ_B  \n",
       "0  0.0  0.0  0.0  0.0     1     0  \n",
       "1  0.0  0.0  0.0  0.0     1     0  \n",
       "2  0.0  0.0  0.0  0.0     1     0  \n",
       "3  0.0  0.0  0.0  0.0     1     0  \n",
       "4  0.0  0.0  0.0  0.0     1     0  \n",
       "\n",
       "[5 rows x 57 columns]"
      ]
     },
     "execution_count": 8,
     "metadata": {},
     "output_type": "execute_result"
    }
   ],
   "source": [
    "# test\n",
    "Id = test['Id']\n",
    "test_EJ = test['EJ']\n",
    "X_test = test.drop(['Id','EJ'], axis = 1)\n",
    "X_test.fillna(X_test.mean(), inplace = True)\n",
    "\n",
    "X_test = pd.DataFrame(preprocessing.scale(X_test))\n",
    "X_test['EJ_A'] = (test_EJ == \"A\").astype(int)\n",
    "X_test['EJ_B'] = (test_EJ == \"B\").astype(int)\n",
    "\n",
    "assert not np.any(np.isnan(X_test.values))\n",
    "print(len(X_test.columns))\n",
    "X_test.head()"
   ]
  },
  {
   "cell_type": "markdown",
   "id": "4d9b29d1",
   "metadata": {
    "papermill": {
     "duration": 0.008995,
     "end_time": "2023-08-10T09:29:40.080514",
     "exception": false,
     "start_time": "2023-08-10T09:29:40.071519",
     "status": "completed"
    },
    "tags": []
   },
   "source": [
    "# Feature selection"
   ]
  },
  {
   "cell_type": "code",
   "execution_count": 9,
   "id": "d4d75011",
   "metadata": {
    "execution": {
     "iopub.execute_input": "2023-08-10T09:29:40.101050Z",
     "iopub.status.busy": "2023-08-10T09:29:40.100126Z",
     "iopub.status.idle": "2023-08-10T09:29:40.647815Z",
     "shell.execute_reply": "2023-08-10T09:29:40.646812Z"
    },
    "papermill": {
     "duration": 0.561095,
     "end_time": "2023-08-10T09:29:40.650700",
     "exception": false,
     "start_time": "2023-08-10T09:29:40.089605",
     "status": "completed"
    },
    "tags": []
   },
   "outputs": [
    {
     "data": {
      "text/plain": [
       "array([0.04692246, 0.        , 0.00868781, 0.        , 0.        ,\n",
       "       0.        , 0.0082796 , 0.        , 0.08387097, 0.00049515,\n",
       "       0.00500505, 0.        , 0.02374471, 0.00536009, 0.        ,\n",
       "       0.        , 0.00436951, 0.01698006, 0.        , 0.        ,\n",
       "       0.        , 0.06663211, 0.00391658, 0.        , 0.        ,\n",
       "       0.07840092, 0.04563806, 0.        , 0.01436914, 0.04315638,\n",
       "       0.03175075, 0.01961156, 0.15039295, 0.        , 0.00554262,\n",
       "       0.02126796, 0.05714305, 0.02304943, 0.        , 0.02276724,\n",
       "       0.02387688, 0.        , 0.01614378, 0.05725603, 0.01536641,\n",
       "       0.02972848, 0.02254557, 0.02447575, 0.        , 0.        ,\n",
       "       0.        , 0.        , 0.        , 0.        , 0.02325301,\n",
       "       0.        , 0.        ], dtype=float32)"
      ]
     },
     "execution_count": 9,
     "metadata": {},
     "output_type": "execute_result"
    }
   ],
   "source": [
    "from xgboost import XGBClassifier\n",
    "model = XGBClassifier(max_depth = 3, learning_rate = 0.01, n_estimators = 100)\n",
    "model.fit(X_train, y_train)\n",
    "model.feature_importances_"
   ]
  },
  {
   "cell_type": "code",
   "execution_count": 10,
   "id": "e828be32",
   "metadata": {
    "execution": {
     "iopub.execute_input": "2023-08-10T09:29:40.672230Z",
     "iopub.status.busy": "2023-08-10T09:29:40.671778Z",
     "iopub.status.idle": "2023-08-10T09:30:17.473570Z",
     "shell.execute_reply": "2023-08-10T09:30:17.472643Z"
    },
    "papermill": {
     "duration": 36.827101,
     "end_time": "2023-08-10T09:30:17.487964",
     "exception": false,
     "start_time": "2023-08-10T09:29:40.660863",
     "status": "completed"
    },
    "tags": []
   },
   "outputs": [
    {
     "name": "stdout",
     "output_type": "stream",
     "text": [
      "[4.0032210e+00 1.3511183e+00 1.4540286e-01 1.0507392e+00 1.7154338e+00\n",
      " 1.0879451e+00 1.0836494e+00 9.3232518e-01 8.9550476e+00 9.2621341e-02\n",
      " 7.5585073e-01 3.5867390e-01 1.2309179e+00 9.7582382e-01 6.3735843e-01\n",
      " 1.8095733e+00 2.2116857e+00 1.8020310e+00 6.7115813e-01 9.3089312e-01\n",
      " 5.7772988e-01 5.3382096e+00 2.3365560e+00 6.4082330e-01 9.6433228e-03\n",
      " 4.1360207e+00 9.5516950e-01 0.0000000e+00 1.5036024e+00 8.7445515e-01\n",
      " 1.3802823e+00 1.1340941e+00 1.9227522e+01 0.0000000e+00 1.2737113e+00\n",
      " 1.5548754e+00 2.8955638e+00 1.8714038e+00 2.4036887e+00 5.7972300e-01\n",
      " 2.0501378e+00 5.2435344e-01 1.9731406e+00 2.4275579e+00 5.3890389e-01\n",
      " 3.0300658e+00 2.2386382e+00 2.2927656e+00 1.8469962e+00 5.6242013e-01\n",
      " 1.3159273e+00 2.3925804e-02 3.7398914e-01 4.4852418e-01 8.5808152e-01\n",
      " 0.0000000e+00 0.0000000e+00]\n",
      "[2, 9, 11, 24, 27, 33, 51, 52, 53, 'EJ_A', 'EJ_B']\n"
     ]
    }
   ],
   "source": [
    "# drop with importances\n",
    "features = model.feature_importances_\n",
    "for i in range(100):\n",
    "    model = XGBClassifier(max_depth = 6, learning_rate = 0.01, n_estimators = 100,\n",
    "                         random_state = 300 + i)\n",
    "    model.fit(X_train, y_train)\n",
    "    features += model.feature_importances_\n",
    "print(features)\n",
    "\n",
    "badfeatures = features < 0.5\n",
    "droplist = []\n",
    "for i in range(len(badfeatures)):\n",
    "    if badfeatures[i]:\n",
    "        droplist.append(X_train.columns[i])\n",
    "print(droplist)\n",
    "X_train.drop(droplist, axis = 1, inplace = True)\n",
    "X_test.drop(droplist, axis = 1, inplace = True)"
   ]
  },
  {
   "cell_type": "code",
   "execution_count": 11,
   "id": "90810c79",
   "metadata": {
    "execution": {
     "iopub.execute_input": "2023-08-10T09:30:17.509373Z",
     "iopub.status.busy": "2023-08-10T09:30:17.508957Z",
     "iopub.status.idle": "2023-08-10T09:30:18.555781Z",
     "shell.execute_reply": "2023-08-10T09:30:18.554786Z"
    },
    "papermill": {
     "duration": 1.060782,
     "end_time": "2023-08-10T09:30:18.558539",
     "exception": false,
     "start_time": "2023-08-10T09:30:17.497757",
     "status": "completed"
    },
    "tags": []
   },
   "outputs": [
    {
     "data": {
      "text/plain": [
       "<Axes: title={'center': 'Feature importance'}, xlabel='F score', ylabel='Features'>"
      ]
     },
     "execution_count": 11,
     "metadata": {},
     "output_type": "execute_result"
    },
    {
     "data": {
      "image/png": "[encoded data removed]",
      "text/plain": [
       "<Figure size 640x480 with 1 Axes>"
      ]
     },
     "metadata": {},
     "output_type": "display_data"
    }
   ],
   "source": [
    "from xgboost import plot_importance\n",
    "plot_importance(model)"
   ]
  },
  {
   "cell_type": "markdown",
   "id": "7d4afdb2",
   "metadata": {
    "papermill": {
     "duration": 0.010956,
     "end_time": "2023-08-10T09:30:18.580509",
     "exception": false,
     "start_time": "2023-08-10T09:30:18.569553",
     "status": "completed"
    },
    "tags": []
   },
   "source": [
    "# Tree ensemble"
   ]
  },
  {
   "cell_type": "code",
   "execution_count": 12,
   "id": "3768f375",
   "metadata": {
    "execution": {
     "iopub.execute_input": "2023-08-10T09:30:18.604014Z",
     "iopub.status.busy": "2023-08-10T09:30:18.603568Z",
     "iopub.status.idle": "2023-08-10T09:30:18.609461Z",
     "shell.execute_reply": "2023-08-10T09:30:18.608432Z"
    },
    "papermill": {
     "duration": 0.020378,
     "end_time": "2023-08-10T09:30:18.611742",
     "exception": false,
     "start_time": "2023-08-10T09:30:18.591364",
     "status": "completed"
    },
    "tags": []
   },
   "outputs": [],
   "source": [
    "# Repeated Stratified k-fold\n",
    "from sklearn.model_selection import RepeatedStratifiedKFold\n",
    "rskf = RepeatedStratifiedKFold(n_splits = 8, n_repeats = 10, random_state = 2000)"
   ]
  },
  {
   "cell_type": "code",
   "execution_count": 13,
   "id": "fc82fb72",
   "metadata": {
    "execution": {
     "iopub.execute_input": "2023-08-10T09:30:18.635687Z",
     "iopub.status.busy": "2023-08-10T09:30:18.634814Z",
     "iopub.status.idle": "2023-08-10T09:31:03.120764Z",
     "shell.execute_reply": "2023-08-10T09:31:03.119758Z"
    },
    "papermill": {
     "duration": 44.501196,
     "end_time": "2023-08-10T09:31:03.123812",
     "exception": false,
     "start_time": "2023-08-10T09:30:18.622616",
     "status": "completed"
    },
    "tags": []
   },
   "outputs": [],
   "source": [
    "# ensemble trees\n",
    "import copy\n",
    "def ensemble(rskf, X, y):\n",
    "    X=X.to_numpy()\n",
    "    y=y.to_numpy()\n",
    "    models = []\n",
    "    models_list = []\n",
    "    for train_idx, test_idx in rskf.split(X, y):\n",
    "        X_val, y_val = X[test_idx], y[test_idx]\n",
    "        X_train, y_train = X[train_idx], y[train_idx]\n",
    "        model = XGBClassifier(max_depth = 6, learning_rate = 0.01, n_estimators = 100)\n",
    "        model.fit(X_train, y_train)\n",
    "        models.append(model)\n",
    "        models_list.append(copy.deepcopy(models))\n",
    "    return models_list, models\n",
    "models_list, last_models= ensemble(rskf, X_train, y_train)"
   ]
  },
  {
   "cell_type": "code",
   "execution_count": 14,
   "id": "da8bc61c",
   "metadata": {
    "execution": {
     "iopub.execute_input": "2023-08-10T09:31:03.149027Z",
     "iopub.status.busy": "2023-08-10T09:31:03.148635Z",
     "iopub.status.idle": "2023-08-10T09:31:03.154891Z",
     "shell.execute_reply": "2023-08-10T09:31:03.153669Z"
    },
    "papermill": {
     "duration": 0.021518,
     "end_time": "2023-08-10T09:31:03.157588",
     "exception": false,
     "start_time": "2023-08-10T09:31:03.136070",
     "status": "completed"
    },
    "tags": []
   },
   "outputs": [],
   "source": [
    "from sklearn.metrics import log_loss\n",
    "def balanced_log_loss(y_true, y_pred):\n",
    "    y_true = np.asarray(y_true, dtype='int64')\n",
    "    nc = np.bincount(y_true)\n",
    "    return log_loss(y_true, y_pred, sample_weight = 1/nc[y_true], eps=1e-15)\n",
    "# balanced_log_loss(y_val, yhat)"
   ]
  },
  {
   "cell_type": "code",
   "execution_count": 15,
   "id": "bed10387",
   "metadata": {
    "execution": {
     "iopub.execute_input": "2023-08-10T09:31:03.180675Z",
     "iopub.status.busy": "2023-08-10T09:31:03.180302Z",
     "iopub.status.idle": "2023-08-10T09:31:03.187034Z",
     "shell.execute_reply": "2023-08-10T09:31:03.185836Z"
    },
    "papermill": {
     "duration": 0.021071,
     "end_time": "2023-08-10T09:31:03.189587",
     "exception": false,
     "start_time": "2023-08-10T09:31:03.168516",
     "status": "completed"
    },
    "tags": []
   },
   "outputs": [],
   "source": [
    "# compute loss\n",
    "def test_models(models, X_val, y_val, evaluator):\n",
    "    preds = np.zeros((len(y_val), 2))\n",
    "    for model in models:\n",
    "        yhat = model.predict_proba(X_val)\n",
    "        preds += yhat\n",
    "    preds/= len(models)\n",
    "    loss = evaluator(y_val, preds)\n",
    "    return loss\n",
    "# test_models(last_models, X_val, y_val, balanced_log_loss)"
   ]
  },
  {
   "cell_type": "code",
   "execution_count": 16,
   "id": "067cbb7d",
   "metadata": {
    "execution": {
     "iopub.execute_input": "2023-08-10T09:31:03.212901Z",
     "iopub.status.busy": "2023-08-10T09:31:03.212522Z",
     "iopub.status.idle": "2023-08-10T09:36:02.536885Z",
     "shell.execute_reply": "2023-08-10T09:36:02.535843Z"
    },
    "papermill": {
     "duration": 299.339503,
     "end_time": "2023-08-10T09:36:02.539857",
     "exception": false,
     "start_time": "2023-08-10T09:31:03.200354",
     "status": "completed"
    },
    "tags": []
   },
   "outputs": [
    {
     "name": "stdout",
     "output_type": "stream",
     "text": [
      "Loss = 27.743864779617265\n",
      "Loss = 26.861970087787007\n",
      "Loss = 26.648013841215366\n",
      "Loss = 26.782978463364092\n",
      "Loss = 26.74323128719291\n",
      "Loss = 26.650205134845642\n",
      "Loss = 26.648933693186688\n",
      "Loss = 26.628144330263396\n",
      "Loss = 26.602227536122275\n",
      "Loss = 26.590458824498\n",
      "Loss = 26.591381654207453\n",
      "Loss = 26.56706857252455\n",
      "Loss = 26.549610137934327\n",
      "Loss = 26.583644141504973\n",
      "Loss = 26.560617050860717\n",
      "Loss = 26.554907879737307\n",
      "Loss = 26.58685690891643\n",
      "Loss = 26.544260027185658\n",
      "Loss = 26.55216636361139\n",
      "Loss = 26.533874331076557\n",
      "Loss = 26.512020746256265\n",
      "Loss = 26.480446998874942\n",
      "Loss = 26.481001020929476\n",
      "Loss = 26.511162634322137\n",
      "Loss = 26.51935639137976\n",
      "Loss = 26.474105972932975\n",
      "Loss = 26.469722531399228\n",
      "Loss = 26.516876591939685\n",
      "Loss = 26.517641667110418\n",
      "Loss = 26.501344448018916\n",
      "Loss = 26.502095781344348\n",
      "Loss = 26.537041649231355\n",
      "Loss = 26.51932498896777\n",
      "Loss = 26.535431149119532\n",
      "Loss = 26.53562602568905\n",
      "Loss = 26.535447461353257\n",
      "Loss = 26.51839244502078\n",
      "Loss = 26.542390883810373\n",
      "Loss = 26.536652924935797\n",
      "Loss = 26.52425373758059\n",
      "Loss = 26.528331080505573\n",
      "Loss = 26.50952583027235\n",
      "Loss = 26.5108025298288\n",
      "Loss = 26.516015177833076\n",
      "Loss = 26.53522604857739\n",
      "Loss = 26.531435246284644\n",
      "Loss = 26.543299911463357\n",
      "Loss = 26.53574635532937\n",
      "Loss = 26.543970210299346\n",
      "Loss = 26.553390940646114\n",
      "Loss = 26.567746023685167\n",
      "Loss = 26.564796847356064\n",
      "Loss = 26.561267748361313\n",
      "Loss = 26.568717977101375\n",
      "Loss = 26.573327478412242\n",
      "Loss = 26.593447136121817\n",
      "Loss = 26.593333804733625\n",
      "Loss = 26.590806803008203\n",
      "Loss = 26.575453870736297\n",
      "Loss = 26.57048841366163\n",
      "Loss = 26.58873131062874\n",
      "Loss = 26.59377624103679\n",
      "Loss = 26.58567514248029\n",
      "Loss = 26.58832683416639\n",
      "Loss = 26.601336960483696\n",
      "Loss = 26.601335073918094\n",
      "Loss = 26.600507885747703\n",
      "Loss = 26.600090868607232\n",
      "Loss = 26.588533432960578\n",
      "Loss = 26.588035765673325\n",
      "Loss = 26.5902953317124\n",
      "Loss = 26.585698000274153\n",
      "Loss = 26.58734544776745\n",
      "Loss = 26.59104566874973\n",
      "Loss = 26.588932214361048\n",
      "Loss = 26.586784501792522\n",
      "Loss = 26.582714648896854\n",
      "Loss = 26.577468009035773\n",
      "Loss = 26.576574607967167\n",
      "Loss = 26.571843834321285\n",
      "Best Loss = 26.469722531399228\n"
     ]
    }
   ],
   "source": [
    "from sklearn.model_selection import train_test_split\n",
    "def find_best_model(models_list, evaluator, X, y, rskf):\n",
    "    best_loss = 100\n",
    "    best_model = []\n",
    "    X=X.to_numpy()\n",
    "    y=y.to_numpy()\n",
    "    \n",
    "    for models in models_list:\n",
    "        loss = 0\n",
    "        for train_idx, test_idx in rskf.split(X, y):\n",
    "            X_val, y_val = X[test_idx], y[test_idx]\n",
    "            loss += test_models(models, X_val, y_val, balanced_log_loss)\n",
    "        print(f'Loss = {loss}')\n",
    "        if loss < best_loss:\n",
    "            best_model = models\n",
    "            best_loss = loss\n",
    "    print(f'Best Loss = {best_loss}')\n",
    "    return best_model   \n",
    "best_model = find_best_model(models_list, balanced_log_loss, X_train, y_train, rskf)"
   ]
  },
  {
   "cell_type": "markdown",
   "id": "c9b970db",
   "metadata": {
    "papermill": {
     "duration": 0.018065,
     "end_time": "2023-08-10T09:36:02.576519",
     "exception": false,
     "start_time": "2023-08-10T09:36:02.558454",
     "status": "completed"
    },
    "tags": []
   },
   "source": [
    "# Submit"
   ]
  },
  {
   "cell_type": "code",
   "execution_count": 17,
   "id": "44cdf479",
   "metadata": {
    "execution": {
     "iopub.execute_input": "2023-08-10T09:36:02.616692Z",
     "iopub.status.busy": "2023-08-10T09:36:02.615917Z",
     "iopub.status.idle": "2023-08-10T09:36:02.731416Z",
     "shell.execute_reply": "2023-08-10T09:36:02.730562Z"
    },
    "papermill": {
     "duration": 0.138025,
     "end_time": "2023-08-10T09:36:02.733904",
     "exception": false,
     "start_time": "2023-08-10T09:36:02.595879",
     "status": "completed"
    },
    "tags": []
   },
   "outputs": [
    {
     "name": "stdout",
     "output_type": "stream",
     "text": [
      "[[0.7161818 0.2838182]\n",
      " [0.7161818 0.2838182]\n",
      " [0.7161818 0.2838182]\n",
      " [0.7161818 0.2838182]\n",
      " [0.7161818 0.2838182]]\n"
     ]
    }
   ],
   "source": [
    "predictions = np.zeros((len(X_test), 2))\n",
    "for model in best_model:\n",
    "    predictions += model.predict_proba(X_test)\n",
    "predictions/=len(best_model)\n",
    "print(predictions)"
   ]
  },
  {
   "cell_type": "code",
   "execution_count": 18,
   "id": "17843ae3",
   "metadata": {
    "execution": {
     "iopub.execute_input": "2023-08-10T09:36:02.772553Z",
     "iopub.status.busy": "2023-08-10T09:36:02.772083Z",
     "iopub.status.idle": "2023-08-10T09:36:02.782042Z",
     "shell.execute_reply": "2023-08-10T09:36:02.781203Z"
    },
    "papermill": {
     "duration": 0.031162,
     "end_time": "2023-08-10T09:36:02.784297",
     "exception": false,
     "start_time": "2023-08-10T09:36:02.753135",
     "status": "completed"
    },
    "tags": []
   },
   "outputs": [],
   "source": [
    "output = pd.DataFrame({\n",
    "    'Id':Id\n",
    "})\n",
    "output[['class_0','class_1']] = predictions\n",
    "output.to_csv('/kaggle/working/submission.csv', index=False)"
   ]
  },
  {
   "cell_type": "code",
   "execution_count": null,
   "id": "d5168534",
   "metadata": {
    "papermill": {
     "duration": 0.017779,
     "end_time": "2023-08-10T09:36:02.819960",
     "exception": false,
     "start_time": "2023-08-10T09:36:02.802181",
     "status": "completed"
    },
    "tags": []
   },
   "outputs": [],
   "source": []
  }
 ],
 "metadata": {
  "kernelspec": {
   "display_name": "Python 3",
   "language": "python",
   "name": "python3"
  },
  "language_info": {
   "codemirror_mode": {
    "name": "ipython",
    "version": 3
   },
   "file_extension": ".py",
   "mimetype": "text/x-python",
   "name": "python",
   "nbconvert_exporter": "python",
   "pygments_lexer": "ipython3",
   "version": "3.10.12"
  },
  "papermill": {
   "default_parameters": {},
   "duration": 397.199648,
   "end_time": "2023-08-10T09:36:04.265369",
   "environment_variables": {},
   "exception": null,
   "input_path": "__notebook__.ipynb",
   "output_path": "__notebook__.ipynb",
   "parameters": {},
   "start_time": "2023-08-10T09:29:27.065721",
   "version": "2.4.0"
  }
 },
 "nbformat": 4,
 "nbformat_minor": 5
}
